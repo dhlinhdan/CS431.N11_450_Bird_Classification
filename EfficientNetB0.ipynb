{
  "cells": [
    {
      "cell_type": "markdown",
      "metadata": {
        "id": "view-in-github",
        "colab_type": "text"
      },
      "source": [
        "<a href=\"https://colab.research.google.com/github/dhlinhdan/CS431.N11_450_Bird_Classification/blob/main/EfficientNetB0.ipynb\" target=\"_parent\"><img src=\"https://colab.research.google.com/assets/colab-badge.svg\" alt=\"Open In Colab\"/></a>"
      ]
    },
    {
      "cell_type": "code",
      "source": [
        "from google.colab import drive\n",
        "drive.mount('/content/drive')"
      ],
      "metadata": {
        "colab": {
          "base_uri": "https://localhost:8080/"
        },
        "id": "xwWpqOVlaI22",
        "outputId": "a86c84d6-efaa-4af0-f387-527ca90800ea"
      },
      "execution_count": null,
      "outputs": [
        {
          "output_type": "stream",
          "name": "stdout",
          "text": [
            "Mounted at /content/drive\n"
          ]
        }
      ]
    },
    {
      "cell_type": "code",
      "source": [
        "!pip install -q kaggle\n",
        "!pip install -U efficientnet"
      ],
      "metadata": {
        "id": "FNPlmEF-TRXV"
      },
      "execution_count": null,
      "outputs": []
    },
    {
      "cell_type": "code",
      "source": [
        "from google.colab import files\n",
        "files.upload()\n"
      ],
      "metadata": {
        "colab": {
          "base_uri": "https://localhost:8080/",
          "height": 90
        },
        "id": "hFFbfSdsTT7G",
        "outputId": "03558f2e-879b-4cb1-b13e-df37db9eeedd"
      },
      "execution_count": null,
      "outputs": [
        {
          "output_type": "display_data",
          "data": {
            "text/plain": [
              "<IPython.core.display.HTML object>"
            ],
            "text/html": [
              "\n",
              "     <input type=\"file\" id=\"files-0cf33c9e-b1b1-4f18-a22e-b3b032ebcec7\" name=\"files[]\" multiple disabled\n",
              "        style=\"border:none\" />\n",
              "     <output id=\"result-0cf33c9e-b1b1-4f18-a22e-b3b032ebcec7\">\n",
              "      Upload widget is only available when the cell has been executed in the\n",
              "      current browser session. Please rerun this cell to enable.\n",
              "      </output>\n",
              "      <script>// Copyright 2017 Google LLC\n",
              "//\n",
              "// Licensed under the Apache License, Version 2.0 (the \"License\");\n",
              "// you may not use this file except in compliance with the License.\n",
              "// You may obtain a copy of the License at\n",
              "//\n",
              "//      http://www.apache.org/licenses/LICENSE-2.0\n",
              "//\n",
              "// Unless required by applicable law or agreed to in writing, software\n",
              "// distributed under the License is distributed on an \"AS IS\" BASIS,\n",
              "// WITHOUT WARRANTIES OR CONDITIONS OF ANY KIND, either express or implied.\n",
              "// See the License for the specific language governing permissions and\n",
              "// limitations under the License.\n",
              "\n",
              "/**\n",
              " * @fileoverview Helpers for google.colab Python module.\n",
              " */\n",
              "(function(scope) {\n",
              "function span(text, styleAttributes = {}) {\n",
              "  const element = document.createElement('span');\n",
              "  element.textContent = text;\n",
              "  for (const key of Object.keys(styleAttributes)) {\n",
              "    element.style[key] = styleAttributes[key];\n",
              "  }\n",
              "  return element;\n",
              "}\n",
              "\n",
              "// Max number of bytes which will be uploaded at a time.\n",
              "const MAX_PAYLOAD_SIZE = 100 * 1024;\n",
              "\n",
              "function _uploadFiles(inputId, outputId) {\n",
              "  const steps = uploadFilesStep(inputId, outputId);\n",
              "  const outputElement = document.getElementById(outputId);\n",
              "  // Cache steps on the outputElement to make it available for the next call\n",
              "  // to uploadFilesContinue from Python.\n",
              "  outputElement.steps = steps;\n",
              "\n",
              "  return _uploadFilesContinue(outputId);\n",
              "}\n",
              "\n",
              "// This is roughly an async generator (not supported in the browser yet),\n",
              "// where there are multiple asynchronous steps and the Python side is going\n",
              "// to poll for completion of each step.\n",
              "// This uses a Promise to block the python side on completion of each step,\n",
              "// then passes the result of the previous step as the input to the next step.\n",
              "function _uploadFilesContinue(outputId) {\n",
              "  const outputElement = document.getElementById(outputId);\n",
              "  const steps = outputElement.steps;\n",
              "\n",
              "  const next = steps.next(outputElement.lastPromiseValue);\n",
              "  return Promise.resolve(next.value.promise).then((value) => {\n",
              "    // Cache the last promise value to make it available to the next\n",
              "    // step of the generator.\n",
              "    outputElement.lastPromiseValue = value;\n",
              "    return next.value.response;\n",
              "  });\n",
              "}\n",
              "\n",
              "/**\n",
              " * Generator function which is called between each async step of the upload\n",
              " * process.\n",
              " * @param {string} inputId Element ID of the input file picker element.\n",
              " * @param {string} outputId Element ID of the output display.\n",
              " * @return {!Iterable<!Object>} Iterable of next steps.\n",
              " */\n",
              "function* uploadFilesStep(inputId, outputId) {\n",
              "  const inputElement = document.getElementById(inputId);\n",
              "  inputElement.disabled = false;\n",
              "\n",
              "  const outputElement = document.getElementById(outputId);\n",
              "  outputElement.innerHTML = '';\n",
              "\n",
              "  const pickedPromise = new Promise((resolve) => {\n",
              "    inputElement.addEventListener('change', (e) => {\n",
              "      resolve(e.target.files);\n",
              "    });\n",
              "  });\n",
              "\n",
              "  const cancel = document.createElement('button');\n",
              "  inputElement.parentElement.appendChild(cancel);\n",
              "  cancel.textContent = 'Cancel upload';\n",
              "  const cancelPromise = new Promise((resolve) => {\n",
              "    cancel.onclick = () => {\n",
              "      resolve(null);\n",
              "    };\n",
              "  });\n",
              "\n",
              "  // Wait for the user to pick the files.\n",
              "  const files = yield {\n",
              "    promise: Promise.race([pickedPromise, cancelPromise]),\n",
              "    response: {\n",
              "      action: 'starting',\n",
              "    }\n",
              "  };\n",
              "\n",
              "  cancel.remove();\n",
              "\n",
              "  // Disable the input element since further picks are not allowed.\n",
              "  inputElement.disabled = true;\n",
              "\n",
              "  if (!files) {\n",
              "    return {\n",
              "      response: {\n",
              "        action: 'complete',\n",
              "      }\n",
              "    };\n",
              "  }\n",
              "\n",
              "  for (const file of files) {\n",
              "    const li = document.createElement('li');\n",
              "    li.append(span(file.name, {fontWeight: 'bold'}));\n",
              "    li.append(span(\n",
              "        `(${file.type || 'n/a'}) - ${file.size} bytes, ` +\n",
              "        `last modified: ${\n",
              "            file.lastModifiedDate ? file.lastModifiedDate.toLocaleDateString() :\n",
              "                                    'n/a'} - `));\n",
              "    const percent = span('0% done');\n",
              "    li.appendChild(percent);\n",
              "\n",
              "    outputElement.appendChild(li);\n",
              "\n",
              "    const fileDataPromise = new Promise((resolve) => {\n",
              "      const reader = new FileReader();\n",
              "      reader.onload = (e) => {\n",
              "        resolve(e.target.result);\n",
              "      };\n",
              "      reader.readAsArrayBuffer(file);\n",
              "    });\n",
              "    // Wait for the data to be ready.\n",
              "    let fileData = yield {\n",
              "      promise: fileDataPromise,\n",
              "      response: {\n",
              "        action: 'continue',\n",
              "      }\n",
              "    };\n",
              "\n",
              "    // Use a chunked sending to avoid message size limits. See b/62115660.\n",
              "    let position = 0;\n",
              "    do {\n",
              "      const length = Math.min(fileData.byteLength - position, MAX_PAYLOAD_SIZE);\n",
              "      const chunk = new Uint8Array(fileData, position, length);\n",
              "      position += length;\n",
              "\n",
              "      const base64 = btoa(String.fromCharCode.apply(null, chunk));\n",
              "      yield {\n",
              "        response: {\n",
              "          action: 'append',\n",
              "          file: file.name,\n",
              "          data: base64,\n",
              "        },\n",
              "      };\n",
              "\n",
              "      let percentDone = fileData.byteLength === 0 ?\n",
              "          100 :\n",
              "          Math.round((position / fileData.byteLength) * 100);\n",
              "      percent.textContent = `${percentDone}% done`;\n",
              "\n",
              "    } while (position < fileData.byteLength);\n",
              "  }\n",
              "\n",
              "  // All done.\n",
              "  yield {\n",
              "    response: {\n",
              "      action: 'complete',\n",
              "    }\n",
              "  };\n",
              "}\n",
              "\n",
              "scope.google = scope.google || {};\n",
              "scope.google.colab = scope.google.colab || {};\n",
              "scope.google.colab._files = {\n",
              "  _uploadFiles,\n",
              "  _uploadFilesContinue,\n",
              "};\n",
              "})(self);\n",
              "</script> "
            ]
          },
          "metadata": {}
        },
        {
          "output_type": "stream",
          "name": "stdout",
          "text": [
            "Saving kaggle.json to kaggle.json\n"
          ]
        },
        {
          "output_type": "execute_result",
          "data": {
            "text/plain": [
              "{'kaggle.json': b'{\"username\":\"homyhanh\",\"key\":\"e94623efbca739c2e616de7ccd1d5a84\"}'}"
            ]
          },
          "metadata": {},
          "execution_count": 3
        }
      ]
    },
    {
      "cell_type": "code",
      "source": [
        "!rm -r ~/.kaggle\n",
        "!mkdir ~/.kaggle\n",
        "!touch /root/.kaggle/kaggle.json\n",
        "! chmod 600 /root/.kaggle/kaggle.json\n",
        "! echo '{\"username\":\"homyhanh\",\"key\":\"e94623efbca739c2e616de7ccd1d5a84\"}' > ~/.kaggle/kaggle.json"
      ],
      "metadata": {
        "id": "CFm9RZLfTXdE",
        "colab": {
          "base_uri": "https://localhost:8080/"
        },
        "outputId": "ce543b3c-c952-42a4-9a7d-bb70fa00818c"
      },
      "execution_count": null,
      "outputs": [
        {
          "output_type": "stream",
          "name": "stdout",
          "text": [
            "rm: cannot remove '/root/.kaggle': No such file or directory\n"
          ]
        }
      ]
    },
    {
      "cell_type": "code",
      "source": [
        "!kaggle datasets download -d gpiosenka/100-bird-species"
      ],
      "metadata": {
        "colab": {
          "base_uri": "https://localhost:8080/"
        },
        "id": "XB8ZEFORTZeS",
        "outputId": "2556c598-c930-4404-d16c-1d9fa0e5b7d2"
      },
      "execution_count": null,
      "outputs": [
        {
          "output_type": "stream",
          "name": "stdout",
          "text": [
            "Downloading 100-bird-species.zip to /content\n",
            "100% 1.69G/1.69G [00:50<00:00, 38.3MB/s]\n",
            "100% 1.69G/1.69G [00:50<00:00, 36.0MB/s]\n"
          ]
        }
      ]
    },
    {
      "cell_type": "code",
      "source": [
        "!unzip 100-bird-species.zip"
      ],
      "metadata": {
        "id": "g7NMXMo0Tbbk"
      },
      "execution_count": null,
      "outputs": []
    },
    {
      "cell_type": "code",
      "execution_count": null,
      "metadata": {
        "_cell_guid": "b1076dfc-b9ad-4769-8c92-a6c4dae69d19",
        "_uuid": "8f2839f25d086af736a60e9eeb907d3b93b6e0e5",
        "execution": {
          "iopub.execute_input": "2020-09-14T22:54:03.357181Z",
          "iopub.status.busy": "2020-09-14T22:54:03.356464Z",
          "iopub.status.idle": "2020-09-14T22:54:09.150928Z",
          "shell.execute_reply": "2020-09-14T22:54:09.149757Z"
        },
        "papermill": {
          "duration": 5.813013,
          "end_time": "2020-09-14T22:54:09.151065",
          "exception": false,
          "start_time": "2020-09-14T22:54:03.338052",
          "status": "completed"
        },
        "tags": [],
        "id": "7258OlBOTJOt"
      },
      "outputs": [],
      "source": [
        "# Import Module\n",
        "import os\n",
        "import random\n",
        "import numpy as np\n",
        "import pandas as pd\n",
        "import matplotlib.pyplot as plt\n",
        "import re\n",
        "import cv2\n",
        "from sklearn.metrics import accuracy_score, f1_score, confusion_matrix, precision_score, recall_score, classification_report\n",
        "from google.colab.patches import cv2_imshow\n",
        "import tensorflow as tf\n",
        "from tensorflow import keras\n",
        "from keras.models import load_model\n",
        "from keras.preprocessing.image import ImageDataGenerator\n",
        "from keras.layers import Dense, Input, Activation, add, Add, Dropout, BatchNormalization, GlobalAveragePooling2D\n",
        "from keras.models import Sequential, Model\n",
        "from keras import optimizers\n",
        "\n",
        "from tensorflow.keras.applications import EfficientNetB0\n",
        "from tensorflow.keras.applications.efficientnet import preprocess_input"
      ]
    },
    {
      "cell_type": "code",
      "execution_count": null,
      "metadata": {
        "execution": {
          "iopub.execute_input": "2020-09-14T22:54:09.177491Z",
          "iopub.status.busy": "2020-09-14T22:54:09.176580Z",
          "iopub.status.idle": "2020-09-14T22:54:09.182468Z",
          "shell.execute_reply": "2020-09-14T22:54:09.181620Z"
        },
        "papermill": {
          "duration": 0.021066,
          "end_time": "2020-09-14T22:54:09.182608",
          "exception": false,
          "start_time": "2020-09-14T22:54:09.161542",
          "status": "completed"
        },
        "tags": [],
        "id": "ohActPVdTJO2"
      },
      "outputs": [],
      "source": [
        "train_dir = '/content/train'\n",
        "validation_dir = '/content/valid'\n",
        "test_dir = '/content/test'\n"
      ]
    },
    {
      "cell_type": "code",
      "source": [
        "IMG_WIDTH = 224\n",
        "IMG_HEIGHT = 224\n",
        "CHANNELS = 3\n",
        "class_name = sorted (os.listdir(train_dir))\n",
        "CLASSES = len (class_name)\n"
      ],
      "metadata": {
        "id": "h8wFKY9E6OXd"
      },
      "execution_count": null,
      "outputs": []
    },
    {
      "cell_type": "code",
      "source": [
        "dict_bird_name = {}\n",
        "for i in range (CLASSES):\n",
        "  dict_bird_name[i] = class_name[i]\n",
        "dict_bird_name"
      ],
      "metadata": {
        "id": "Ys4Gueqz9HGa"
      },
      "execution_count": null,
      "outputs": []
    },
    {
      "cell_type": "code",
      "execution_count": null,
      "metadata": {
        "execution": {
          "iopub.execute_input": "2020-09-14T22:54:09.210496Z",
          "iopub.status.busy": "2020-09-14T22:54:09.209708Z",
          "iopub.status.idle": "2020-09-14T22:54:09.212992Z",
          "shell.execute_reply": "2020-09-14T22:54:09.212459Z"
        },
        "papermill": {
          "duration": 0.019455,
          "end_time": "2020-09-14T22:54:09.213128",
          "exception": false,
          "start_time": "2020-09-14T22:54:09.193673",
          "status": "completed"
        },
        "tags": [],
        "id": "O3rG0EFgTJO5"
      },
      "outputs": [],
      "source": [
        "# Data Augmentation\n",
        "train_datagen = ImageDataGenerator(\n",
        "    preprocessing_function=preprocess_input,\n",
        "    rotation_range=90,\n",
        "    fill_mode='constant',\n",
        "    cval=0xCC,\n",
        "    horizontal_flip=True,\n",
        "    vertical_flip=True,\n",
        "    channel_shift_range=100)\n",
        "\n",
        "validation_datagen = ImageDataGenerator(preprocessing_function=preprocess_input)\n",
        "\n"
      ]
    },
    {
      "cell_type": "code",
      "execution_count": null,
      "metadata": {
        "execution": {
          "iopub.execute_input": "2020-09-14T22:54:09.238317Z",
          "iopub.status.busy": "2020-09-14T22:54:09.237693Z",
          "iopub.status.idle": "2020-09-14T22:54:12.998101Z",
          "shell.execute_reply": "2020-09-14T22:54:12.997176Z"
        },
        "papermill": {
          "duration": 3.774815,
          "end_time": "2020-09-14T22:54:12.998220",
          "exception": false,
          "start_time": "2020-09-14T22:54:09.223405",
          "status": "completed"
        },
        "tags": [],
        "id": "CCPF7X2gTJO7"
      },
      "outputs": [],
      "source": [
        "def create_model():\n",
        "  # Create Model\n",
        "  model_ENB0 = EfficientNetB0(include_top=False, weights='imagenet', input_shape=(IMG_WIDTH,IMG_HEIGHT,CHANNELS))\n",
        "  model_ENB0.trainable = False\n",
        "  # print ('1')\n",
        "  # model_ENB0.summary()\n",
        "\n",
        "  model = Sequential()\n",
        "  model.add(model_ENB0)\n",
        "  model.add(GlobalAveragePooling2D())\n",
        "  model.add(Dropout(0.2))\n",
        "  model.add(Dense(CLASSES,activation=\"softmax\"))\n",
        "  # print ('2')\n",
        "  # model.summary()\n",
        "  return model\n",
        "  "
      ]
    },
    {
      "cell_type": "code",
      "source": [
        "def train_fine_tuning (new_model, choice_batch_size, choice_learning_rate, choice_optimizers, choice_epochs, choice_momentum = 0, get_early_stopping = False):\n",
        "  # Load Traning Data\n",
        "  train_generator = train_datagen.flow_from_directory(\n",
        "              train_dir,\n",
        "              target_size=(IMG_WIDTH,IMG_HEIGHT),\n",
        "              batch_size=choice_batch_size,\n",
        "              class_mode='categorical',\n",
        "              shuffle=True\n",
        "          )\n",
        "  # Load Validation Data\n",
        "  validation_generator = validation_datagen.flow_from_directory(\n",
        "              validation_dir,\n",
        "              target_size=(IMG_WIDTH,IMG_HEIGHT),\n",
        "              batch_size=choice_batch_size,\n",
        "              class_mode='categorical',\n",
        "              shuffle=True\n",
        "          )\n",
        "  # Pre Training\n",
        "  if (choice_optimizers == 'adam'):\n",
        "    new_model.compile(loss = 'categorical_crossentropy',\n",
        "                optimizer = optimizers.Adam(learning_rate=choice_learning_rate),\n",
        "                metrics=['accuracy'])\n",
        "  elif (choice_optimizers == 'sgd'):\n",
        "    if (choice_momentum == 0):\n",
        "      new_model.compile(loss = 'categorical_crossentropy',\n",
        "                optimizer = optimizers.SGD(learning_rate=choice_learning_rate),\n",
        "                metrics=['accuracy'])\n",
        "    else:\n",
        "      new_model.compile(loss = 'categorical_crossentropy',\n",
        "                optimizer = optimizers.SGD(learning_rate=choice_learning_rate, momentum = choice_momentum),\n",
        "                metrics=['accuracy'])\n",
        "  else:\n",
        "    new_model.compile(loss = 'categorical_crossentropy',\n",
        "                optimizer = optimizers.RMSprop(learning_rate=choice_learning_rate),\n",
        "                metrics=['accuracy'])\n",
        "  STEP_SIZE_TRAIN=train_generator.n // train_generator.batch_size\n",
        "  STEP_SIZE_VALID=validation_generator.n  // validation_generator.batch_size\n",
        "\n",
        "  if not get_early_stopping:\n",
        "    history_ = new_model.fit(train_generator,\n",
        "                              steps_per_epoch=STEP_SIZE_TRAIN,\n",
        "                              epochs=choice_epochs,\n",
        "                              \n",
        "                              validation_data=validation_generator,\n",
        "                              validation_steps=STEP_SIZE_VALID)\n",
        "  else:\n",
        "    callback = tf.keras.callbacks.EarlyStopping(monitor='val_loss', patience=3)\n",
        "    history_ = new_model.fit(train_generator,\n",
        "                              steps_per_epoch=STEP_SIZE_TRAIN,\n",
        "                              epochs=choice_epochs,\n",
        "                              \n",
        "                              validation_data=validation_generator,\n",
        "                              validation_steps=STEP_SIZE_VALID, callbacks = [callback])\n",
        "  return new_model, history_"
      ],
      "metadata": {
        "id": "hap1Z71nga8v"
      },
      "execution_count": null,
      "outputs": []
    },
    {
      "cell_type": "markdown",
      "source": [
        "# Choose best hyperparameters"
      ],
      "metadata": {
        "id": "VXbXAqD4iHl2"
      }
    },
    {
      "cell_type": "code",
      "source": [
        "new_model = create_model()"
      ],
      "metadata": {
        "id": "fxpLxmcUkLid"
      },
      "execution_count": null,
      "outputs": []
    },
    {
      "cell_type": "code",
      "source": [
        "model, history_ = train_fine_tuning (new_model, 64, 1e-3, 'adam', 5)"
      ],
      "metadata": {
        "id": "PdEKB5L826bq"
      },
      "execution_count": null,
      "outputs": []
    },
    {
      "cell_type": "code",
      "source": [
        "df = pd.DataFrame({'accuracy': history_.history['accuracy'],\n",
        "                   'loss': history_.history['loss'], \n",
        "                   'val_accuracy': history_.history['val_accuracy'],\n",
        "                   'val_loss': history_.history['val_loss']}, \n",
        "                  index=['epoch ' + str(i) for i in range (1,6)])\n",
        "df"
      ],
      "metadata": {
        "colab": {
          "base_uri": "https://localhost:8080/",
          "height": 206
        },
        "id": "5rqtijckYy3A",
        "outputId": "ffddbd39-1986-4151-caa6-4ce7c1662160"
      },
      "execution_count": null,
      "outputs": [
        {
          "output_type": "execute_result",
          "data": {
            "text/plain": [
              "         accuracy      loss  val_accuracy  val_loss\n",
              "epoch 1  0.288339  4.585929      0.639286  3.384114\n",
              "epoch 2  0.611015  2.748535      0.792857  2.117956\n",
              "epoch 3  0.699011  1.962946      0.855357  1.478175\n",
              "epoch 4  0.736465  1.569878      0.880357  1.114994\n",
              "epoch 5  0.763280  1.329478      0.895089  0.890695"
            ],
            "text/html": [
              "\n",
              "  <div id=\"df-18051b4c-06e6-4cc8-bd06-f8f25c77485b\">\n",
              "    <div class=\"colab-df-container\">\n",
              "      <div>\n",
              "<style scoped>\n",
              "    .dataframe tbody tr th:only-of-type {\n",
              "        vertical-align: middle;\n",
              "    }\n",
              "\n",
              "    .dataframe tbody tr th {\n",
              "        vertical-align: top;\n",
              "    }\n",
              "\n",
              "    .dataframe thead th {\n",
              "        text-align: right;\n",
              "    }\n",
              "</style>\n",
              "<table border=\"1\" class=\"dataframe\">\n",
              "  <thead>\n",
              "    <tr style=\"text-align: right;\">\n",
              "      <th></th>\n",
              "      <th>accuracy</th>\n",
              "      <th>loss</th>\n",
              "      <th>val_accuracy</th>\n",
              "      <th>val_loss</th>\n",
              "    </tr>\n",
              "  </thead>\n",
              "  <tbody>\n",
              "    <tr>\n",
              "      <th>epoch 1</th>\n",
              "      <td>0.288339</td>\n",
              "      <td>4.585929</td>\n",
              "      <td>0.639286</td>\n",
              "      <td>3.384114</td>\n",
              "    </tr>\n",
              "    <tr>\n",
              "      <th>epoch 2</th>\n",
              "      <td>0.611015</td>\n",
              "      <td>2.748535</td>\n",
              "      <td>0.792857</td>\n",
              "      <td>2.117956</td>\n",
              "    </tr>\n",
              "    <tr>\n",
              "      <th>epoch 3</th>\n",
              "      <td>0.699011</td>\n",
              "      <td>1.962946</td>\n",
              "      <td>0.855357</td>\n",
              "      <td>1.478175</td>\n",
              "    </tr>\n",
              "    <tr>\n",
              "      <th>epoch 4</th>\n",
              "      <td>0.736465</td>\n",
              "      <td>1.569878</td>\n",
              "      <td>0.880357</td>\n",
              "      <td>1.114994</td>\n",
              "    </tr>\n",
              "    <tr>\n",
              "      <th>epoch 5</th>\n",
              "      <td>0.763280</td>\n",
              "      <td>1.329478</td>\n",
              "      <td>0.895089</td>\n",
              "      <td>0.890695</td>\n",
              "    </tr>\n",
              "  </tbody>\n",
              "</table>\n",
              "</div>\n",
              "      <button class=\"colab-df-convert\" onclick=\"convertToInteractive('df-18051b4c-06e6-4cc8-bd06-f8f25c77485b')\"\n",
              "              title=\"Convert this dataframe to an interactive table.\"\n",
              "              style=\"display:none;\">\n",
              "        \n",
              "  <svg xmlns=\"http://www.w3.org/2000/svg\" height=\"24px\"viewBox=\"0 0 24 24\"\n",
              "       width=\"24px\">\n",
              "    <path d=\"M0 0h24v24H0V0z\" fill=\"none\"/>\n",
              "    <path d=\"M18.56 5.44l.94 2.06.94-2.06 2.06-.94-2.06-.94-.94-2.06-.94 2.06-2.06.94zm-11 1L8.5 8.5l.94-2.06 2.06-.94-2.06-.94L8.5 2.5l-.94 2.06-2.06.94zm10 10l.94 2.06.94-2.06 2.06-.94-2.06-.94-.94-2.06-.94 2.06-2.06.94z\"/><path d=\"M17.41 7.96l-1.37-1.37c-.4-.4-.92-.59-1.43-.59-.52 0-1.04.2-1.43.59L10.3 9.45l-7.72 7.72c-.78.78-.78 2.05 0 2.83L4 21.41c.39.39.9.59 1.41.59.51 0 1.02-.2 1.41-.59l7.78-7.78 2.81-2.81c.8-.78.8-2.07 0-2.86zM5.41 20L4 18.59l7.72-7.72 1.47 1.35L5.41 20z\"/>\n",
              "  </svg>\n",
              "      </button>\n",
              "      \n",
              "  <style>\n",
              "    .colab-df-container {\n",
              "      display:flex;\n",
              "      flex-wrap:wrap;\n",
              "      gap: 12px;\n",
              "    }\n",
              "\n",
              "    .colab-df-convert {\n",
              "      background-color: #E8F0FE;\n",
              "      border: none;\n",
              "      border-radius: 50%;\n",
              "      cursor: pointer;\n",
              "      display: none;\n",
              "      fill: #1967D2;\n",
              "      height: 32px;\n",
              "      padding: 0 0 0 0;\n",
              "      width: 32px;\n",
              "    }\n",
              "\n",
              "    .colab-df-convert:hover {\n",
              "      background-color: #E2EBFA;\n",
              "      box-shadow: 0px 1px 2px rgba(60, 64, 67, 0.3), 0px 1px 3px 1px rgba(60, 64, 67, 0.15);\n",
              "      fill: #174EA6;\n",
              "    }\n",
              "\n",
              "    [theme=dark] .colab-df-convert {\n",
              "      background-color: #3B4455;\n",
              "      fill: #D2E3FC;\n",
              "    }\n",
              "\n",
              "    [theme=dark] .colab-df-convert:hover {\n",
              "      background-color: #434B5C;\n",
              "      box-shadow: 0px 1px 3px 1px rgba(0, 0, 0, 0.15);\n",
              "      filter: drop-shadow(0px 1px 2px rgba(0, 0, 0, 0.3));\n",
              "      fill: #FFFFFF;\n",
              "    }\n",
              "  </style>\n",
              "\n",
              "      <script>\n",
              "        const buttonEl =\n",
              "          document.querySelector('#df-18051b4c-06e6-4cc8-bd06-f8f25c77485b button.colab-df-convert');\n",
              "        buttonEl.style.display =\n",
              "          google.colab.kernel.accessAllowed ? 'block' : 'none';\n",
              "\n",
              "        async function convertToInteractive(key) {\n",
              "          const element = document.querySelector('#df-18051b4c-06e6-4cc8-bd06-f8f25c77485b');\n",
              "          const dataTable =\n",
              "            await google.colab.kernel.invokeFunction('convertToInteractive',\n",
              "                                                     [key], {});\n",
              "          if (!dataTable) return;\n",
              "\n",
              "          const docLinkHtml = 'Like what you see? Visit the ' +\n",
              "            '<a target=\"_blank\" href=https://colab.research.google.com/notebooks/data_table.ipynb>data table notebook</a>'\n",
              "            + ' to learn more about interactive tables.';\n",
              "          element.innerHTML = '';\n",
              "          dataTable['output_type'] = 'display_data';\n",
              "          await google.colab.output.renderOutput(dataTable, element);\n",
              "          const docLink = document.createElement('div');\n",
              "          docLink.innerHTML = docLinkHtml;\n",
              "          element.appendChild(docLink);\n",
              "        }\n",
              "      </script>\n",
              "    </div>\n",
              "  </div>\n",
              "  "
            ]
          },
          "metadata": {},
          "execution_count": 18
        }
      ]
    },
    {
      "cell_type": "code",
      "source": [
        "export_csv = df.to_csv (r'/content/drive/MyDrive/DeepLearning/model_7_result.csv', index_label = 'epochs', header=True)"
      ],
      "metadata": {
        "id": "uUgQ9xO-agi5"
      },
      "execution_count": null,
      "outputs": []
    },
    {
      "cell_type": "code",
      "source": [
        "path = '/content/drive/MyDrive/Models'\n",
        "models = [[64, 1e-2, 'adam'], [64, 1e-3, 'adam'], [64, 1e-4, 'adam'], [32, 1e-2, 'adam'], [32, 1e-3, 'adam'], [32, 1e-4, 'adam'], [64, 1e-2, 'rmspop'], [64, 1e-3, 'rmspop'], [64, 1e-4, 'rmspop'],\n",
        "[32, 1e-2, 'rmspop'], [32, 1e-3, 'rmspop'], [32, 1e-4, 'rmspop'], [64, 1e-2, 'sgd'], [64, 1e-2, 'sgd', 0.9], [64, 1e-2, 'sgd', 0.95], [64, 1e-3, 'sgd'], [64, 1e-3, 'sgd', 0.9], \n",
        "[64, 1e-3, 'sgd', 0.95], [64, 1e-4, 'sgd'], [64, 1e-4, 'sgd', 0.9], [64, 1e-4, 'sgd', 0.95], [32, 1e-2, 'sgd'], [32, 1e-2, 'sgd', 0.9], [32, 1e-2, 'sgd', 0.95], [32, 1e-3, 'sgd'], \n",
        "[32, 1e-3, 'sgd', 0.9], [32, 1e-3, 'sgd', 0.95], [32, 1e-4, 'sgd'], [32, 1e-4, 'sgd', 0.9], [32, 1e-4, 'sgd', 0.95]]\n"
      ],
      "metadata": {
        "id": "RniWIflWRGH4"
      },
      "execution_count": null,
      "outputs": []
    },
    {
      "cell_type": "code",
      "source": [
        "result = pd.read_csv(os.path.join(path, 'model_1_result.csv'))\n",
        "result['accuracy'].max()"
      ],
      "metadata": {
        "colab": {
          "base_uri": "https://localhost:8080/"
        },
        "id": "Ogo_M4Xg2SD3",
        "outputId": "50564983-ed00-4c96-fb28-4529d5f3dcc1"
      },
      "execution_count": null,
      "outputs": [
        {
          "output_type": "execute_result",
          "data": {
            "text/plain": [
              "0.7746662497520447"
            ]
          },
          "metadata": {},
          "execution_count": 18
        }
      ]
    },
    {
      "cell_type": "code",
      "source": [
        "for i in range (len (models)):\n",
        "  result = pd.read_csv(os.path.join(path, 'model_'+str(i+1)+'_result.csv'))\n",
        "  print (models[i])\n",
        "  print (result['accuracy'].max())\n",
        "  print ('--------------------------------------------------------------')\n",
        "\n"
      ],
      "metadata": {
        "id": "1RTAyTt-2LQc"
      },
      "execution_count": null,
      "outputs": []
    },
    {
      "cell_type": "code",
      "source": [
        "max_val_acc = 0\n",
        "index = 0\n",
        "for i in (os.listdir(path)):\n",
        "  df = pd.read_csv(path + '/' + i)\n",
        "  if max_val_acc < df['val_accuracy'].max():\n",
        "    max_val_acc = df['val_accuracy'].max() \n",
        "    index = int (''.join(re.findall(r'\\d', i))) - 1\n",
        "best_hyperparameter = models[index]"
      ],
      "metadata": {
        "id": "GzwFKCtQVy79"
      },
      "execution_count": null,
      "outputs": []
    },
    {
      "cell_type": "code",
      "source": [
        "best_hyperparameter"
      ],
      "metadata": {
        "colab": {
          "base_uri": "https://localhost:8080/"
        },
        "id": "GOXgw3fKeuZW",
        "outputId": "37396608-ad45-41b3-ea44-5701ee486023"
      },
      "execution_count": null,
      "outputs": [
        {
          "output_type": "execute_result",
          "data": {
            "text/plain": [
              "[64, 0.001, 'adam']"
            ]
          },
          "metadata": {},
          "execution_count": 16
        }
      ]
    },
    {
      "cell_type": "markdown",
      "source": [
        "# Train"
      ],
      "metadata": {
        "id": "U4DxqszyiNFU"
      }
    },
    {
      "cell_type": "code",
      "execution_count": null,
      "metadata": {
        "execution": {
          "iopub.execute_input": "2020-09-15T01:20:06.610930Z",
          "iopub.status.busy": "2020-09-15T01:20:06.602991Z",
          "iopub.status.idle": "2020-09-15T01:20:06.634933Z",
          "shell.execute_reply": "2020-09-15T01:20:06.634429Z"
        },
        "papermill": {
          "duration": 3.872686,
          "end_time": "2020-09-15T01:20:06.635044",
          "exception": false,
          "start_time": "2020-09-15T01:20:02.762358",
          "status": "completed"
        },
        "tags": [],
        "id": "NwkctwrbTJPD"
      },
      "outputs": [],
      "source": [
        "# Unfreezing\n",
        "model_ENB0 = EfficientNetB0(include_top=False, weights='imagenet', input_shape=(IMG_WIDTH,IMG_HEIGHT,CHANNELS))\n",
        "model_ENB0.trainable = True\n",
        "set_trainable = False\n",
        "\n",
        "for layer in model_ENB0.layers:\n",
        "    if layer.name == 'block6d_se_excite':\n",
        "        set_trainable = True\n",
        "    if set_trainable:\n",
        "        if not isinstance(layer, BatchNormalization):\n",
        "            layer.trainable = True\n",
        "        else:\n",
        "            layer.trainable = False\n",
        "    else:\n",
        "        layer.trainable = False\n",
        "\n",
        "model = Sequential()\n",
        "model.add(model_ENB0)\n",
        "model.add(GlobalAveragePooling2D())\n",
        "model.add(Dropout(0.2))\n",
        "model.add(Dense(450,activation=\"softmax\"))      \n"
      ]
    },
    {
      "cell_type": "code",
      "source": [
        "model.summary()"
      ],
      "metadata": {
        "colab": {
          "base_uri": "https://localhost:8080/"
        },
        "id": "xSa0xuukZE4U",
        "outputId": "39de838d-1786-4450-8423-c740418f6728"
      },
      "execution_count": null,
      "outputs": [
        {
          "output_type": "stream",
          "name": "stdout",
          "text": [
            "Model: \"sequential_1\"\n",
            "_________________________________________________________________\n",
            " Layer (type)                Output Shape              Param #   \n",
            "=================================================================\n",
            " efficientnetb0 (Functional)  (None, 7, 7, 1280)       4049571   \n",
            "                                                                 \n",
            " global_average_pooling2d_1   (None, 1280)             0         \n",
            " (GlobalAveragePooling2D)                                        \n",
            "                                                                 \n",
            " dropout_1 (Dropout)         (None, 1280)              0         \n",
            "                                                                 \n",
            " dense (Dense)               (None, 450)               576450    \n",
            "                                                                 \n",
            "=================================================================\n",
            "Total params: 4,626,021\n",
            "Trainable params: 1,919,218\n",
            "Non-trainable params: 2,706,803\n",
            "_________________________________________________________________\n"
          ]
        }
      ]
    },
    {
      "cell_type": "code",
      "source": [
        "index_model = 2"
      ],
      "metadata": {
        "id": "bgUggB-k7JHC"
      },
      "execution_count": null,
      "outputs": []
    },
    {
      "cell_type": "code",
      "source": [
        "model = load_model('/content/drive/MyDrive/DeepLearning/Best_Model' + '/best_model_' + str (index_model-1) + '.h5')"
      ],
      "metadata": {
        "id": "3DSui7uz7L3J"
      },
      "execution_count": null,
      "outputs": []
    },
    {
      "cell_type": "code",
      "execution_count": null,
      "metadata": {
        "execution": {
          "iopub.execute_input": "2020-09-15T01:20:13.966324Z",
          "iopub.status.busy": "2020-09-15T01:20:13.965491Z",
          "iopub.status.idle": "2020-09-15T03:47:13.155993Z",
          "shell.execute_reply": "2020-09-15T03:47:13.156728Z"
        },
        "papermill": {
          "duration": 8822.964397,
          "end_time": "2020-09-15T03:47:13.156944",
          "exception": false,
          "start_time": "2020-09-15T01:20:10.192547",
          "status": "completed"
        },
        "tags": [],
        "id": "Z0GGaLW6TJPJ",
        "colab": {
          "base_uri": "https://localhost:8080/"
        },
        "outputId": "7230c2e8-d8df-4f07-ced4-e776c2de06c6"
      },
      "outputs": [
        {
          "output_type": "stream",
          "name": "stdout",
          "text": [
            "Found 70626 images belonging to 450 classes.\n",
            "Found 2250 images belonging to 450 classes.\n",
            "Epoch 1/10\n",
            "1103/1103 [==============================] - 766s 681ms/step - loss: 0.2683 - accuracy: 0.9217 - val_loss: 0.1577 - val_accuracy: 0.9567\n",
            "Epoch 2/10\n",
            "1103/1103 [==============================] - 748s 678ms/step - loss: 0.2449 - accuracy: 0.9288 - val_loss: 0.1369 - val_accuracy: 0.9603\n",
            "Epoch 3/10\n",
            "1103/1103 [==============================] - 748s 678ms/step - loss: 0.2388 - accuracy: 0.9306 - val_loss: 0.1525 - val_accuracy: 0.9567\n",
            "Epoch 4/10\n",
            "1103/1103 [==============================] - 747s 677ms/step - loss: 0.2329 - accuracy: 0.9322 - val_loss: 0.1491 - val_accuracy: 0.9603\n",
            "Epoch 5/10\n",
            "1103/1103 [==============================] - 749s 679ms/step - loss: 0.2222 - accuracy: 0.9343 - val_loss: 0.1671 - val_accuracy: 0.9567\n"
          ]
        }
      ],
      "source": [
        "# Fine Tuning\n",
        "best_model, best_history = train_fine_tuning (model, 64, 1e-3, 'adam', 10, 0, get_early_stopping=True)"
      ]
    },
    {
      "cell_type": "code",
      "source": [
        "best_model.save('/content/drive/MyDrive/DeepLearning/Best_Model' + '/best_model_' + str (index_model) + '.h5') "
      ],
      "metadata": {
        "id": "7D5YyolE7O_D"
      },
      "execution_count": null,
      "outputs": []
    },
    {
      "cell_type": "code",
      "source": [
        "best_history.history['accuracy']"
      ],
      "metadata": {
        "colab": {
          "base_uri": "https://localhost:8080/"
        },
        "id": "tWNOrPv0YWmx",
        "outputId": "e0114ef0-64ba-4dac-f571-03282fdd0c78"
      },
      "execution_count": null,
      "outputs": [
        {
          "output_type": "execute_result",
          "data": {
            "text/plain": [
              "[0.9217000603675842,\n",
              " 0.9287576675415039,\n",
              " 0.9305716753005981,\n",
              " 0.9321731328964233,\n",
              " 0.9343414306640625]"
            ]
          },
          "metadata": {},
          "execution_count": 17
        }
      ]
    },
    {
      "cell_type": "code",
      "source": [
        "df = pd.DataFrame({'accuracy': best_history.history['accuracy'],\n",
        "                   'loss': best_history.history['loss'], \n",
        "                   'val_accuracy': best_history.history['val_accuracy'],\n",
        "                   'val_loss': best_history.history['val_loss']}, \n",
        "                  index=['epoch ' + str(index_model * 10 + i) for i in range (1,len (best_history.history['accuracy']) + 1)])\n",
        "df"
      ],
      "metadata": {
        "colab": {
          "base_uri": "https://localhost:8080/",
          "height": 206
        },
        "id": "KLe6Mbs89JO0",
        "outputId": "fb0005d6-4056-4315-8fd8-9bf3b6626887"
      },
      "execution_count": null,
      "outputs": [
        {
          "output_type": "execute_result",
          "data": {
            "text/plain": [
              "          accuracy      loss  val_accuracy  val_loss\n",
              "epoch 11  0.921700  0.268267      0.956696  0.157746\n",
              "epoch 12  0.928758  0.244899      0.960268  0.136925\n",
              "epoch 13  0.930572  0.238838      0.956696  0.152549\n",
              "epoch 14  0.932173  0.232944      0.960268  0.149064\n",
              "epoch 15  0.934341  0.222220      0.956696  0.167053"
            ],
            "text/html": [
              "\n",
              "  <div id=\"df-d2e971d2-d1f4-4a83-b559-71c57c6633e2\">\n",
              "    <div class=\"colab-df-container\">\n",
              "      <div>\n",
              "<style scoped>\n",
              "    .dataframe tbody tr th:only-of-type {\n",
              "        vertical-align: middle;\n",
              "    }\n",
              "\n",
              "    .dataframe tbody tr th {\n",
              "        vertical-align: top;\n",
              "    }\n",
              "\n",
              "    .dataframe thead th {\n",
              "        text-align: right;\n",
              "    }\n",
              "</style>\n",
              "<table border=\"1\" class=\"dataframe\">\n",
              "  <thead>\n",
              "    <tr style=\"text-align: right;\">\n",
              "      <th></th>\n",
              "      <th>accuracy</th>\n",
              "      <th>loss</th>\n",
              "      <th>val_accuracy</th>\n",
              "      <th>val_loss</th>\n",
              "    </tr>\n",
              "  </thead>\n",
              "  <tbody>\n",
              "    <tr>\n",
              "      <th>epoch 11</th>\n",
              "      <td>0.921700</td>\n",
              "      <td>0.268267</td>\n",
              "      <td>0.956696</td>\n",
              "      <td>0.157746</td>\n",
              "    </tr>\n",
              "    <tr>\n",
              "      <th>epoch 12</th>\n",
              "      <td>0.928758</td>\n",
              "      <td>0.244899</td>\n",
              "      <td>0.960268</td>\n",
              "      <td>0.136925</td>\n",
              "    </tr>\n",
              "    <tr>\n",
              "      <th>epoch 13</th>\n",
              "      <td>0.930572</td>\n",
              "      <td>0.238838</td>\n",
              "      <td>0.956696</td>\n",
              "      <td>0.152549</td>\n",
              "    </tr>\n",
              "    <tr>\n",
              "      <th>epoch 14</th>\n",
              "      <td>0.932173</td>\n",
              "      <td>0.232944</td>\n",
              "      <td>0.960268</td>\n",
              "      <td>0.149064</td>\n",
              "    </tr>\n",
              "    <tr>\n",
              "      <th>epoch 15</th>\n",
              "      <td>0.934341</td>\n",
              "      <td>0.222220</td>\n",
              "      <td>0.956696</td>\n",
              "      <td>0.167053</td>\n",
              "    </tr>\n",
              "  </tbody>\n",
              "</table>\n",
              "</div>\n",
              "      <button class=\"colab-df-convert\" onclick=\"convertToInteractive('df-d2e971d2-d1f4-4a83-b559-71c57c6633e2')\"\n",
              "              title=\"Convert this dataframe to an interactive table.\"\n",
              "              style=\"display:none;\">\n",
              "        \n",
              "  <svg xmlns=\"http://www.w3.org/2000/svg\" height=\"24px\"viewBox=\"0 0 24 24\"\n",
              "       width=\"24px\">\n",
              "    <path d=\"M0 0h24v24H0V0z\" fill=\"none\"/>\n",
              "    <path d=\"M18.56 5.44l.94 2.06.94-2.06 2.06-.94-2.06-.94-.94-2.06-.94 2.06-2.06.94zm-11 1L8.5 8.5l.94-2.06 2.06-.94-2.06-.94L8.5 2.5l-.94 2.06-2.06.94zm10 10l.94 2.06.94-2.06 2.06-.94-2.06-.94-.94-2.06-.94 2.06-2.06.94z\"/><path d=\"M17.41 7.96l-1.37-1.37c-.4-.4-.92-.59-1.43-.59-.52 0-1.04.2-1.43.59L10.3 9.45l-7.72 7.72c-.78.78-.78 2.05 0 2.83L4 21.41c.39.39.9.59 1.41.59.51 0 1.02-.2 1.41-.59l7.78-7.78 2.81-2.81c.8-.78.8-2.07 0-2.86zM5.41 20L4 18.59l7.72-7.72 1.47 1.35L5.41 20z\"/>\n",
              "  </svg>\n",
              "      </button>\n",
              "      \n",
              "  <style>\n",
              "    .colab-df-container {\n",
              "      display:flex;\n",
              "      flex-wrap:wrap;\n",
              "      gap: 12px;\n",
              "    }\n",
              "\n",
              "    .colab-df-convert {\n",
              "      background-color: #E8F0FE;\n",
              "      border: none;\n",
              "      border-radius: 50%;\n",
              "      cursor: pointer;\n",
              "      display: none;\n",
              "      fill: #1967D2;\n",
              "      height: 32px;\n",
              "      padding: 0 0 0 0;\n",
              "      width: 32px;\n",
              "    }\n",
              "\n",
              "    .colab-df-convert:hover {\n",
              "      background-color: #E2EBFA;\n",
              "      box-shadow: 0px 1px 2px rgba(60, 64, 67, 0.3), 0px 1px 3px 1px rgba(60, 64, 67, 0.15);\n",
              "      fill: #174EA6;\n",
              "    }\n",
              "\n",
              "    [theme=dark] .colab-df-convert {\n",
              "      background-color: #3B4455;\n",
              "      fill: #D2E3FC;\n",
              "    }\n",
              "\n",
              "    [theme=dark] .colab-df-convert:hover {\n",
              "      background-color: #434B5C;\n",
              "      box-shadow: 0px 1px 3px 1px rgba(0, 0, 0, 0.15);\n",
              "      filter: drop-shadow(0px 1px 2px rgba(0, 0, 0, 0.3));\n",
              "      fill: #FFFFFF;\n",
              "    }\n",
              "  </style>\n",
              "\n",
              "      <script>\n",
              "        const buttonEl =\n",
              "          document.querySelector('#df-d2e971d2-d1f4-4a83-b559-71c57c6633e2 button.colab-df-convert');\n",
              "        buttonEl.style.display =\n",
              "          google.colab.kernel.accessAllowed ? 'block' : 'none';\n",
              "\n",
              "        async function convertToInteractive(key) {\n",
              "          const element = document.querySelector('#df-d2e971d2-d1f4-4a83-b559-71c57c6633e2');\n",
              "          const dataTable =\n",
              "            await google.colab.kernel.invokeFunction('convertToInteractive',\n",
              "                                                     [key], {});\n",
              "          if (!dataTable) return;\n",
              "\n",
              "          const docLinkHtml = 'Like what you see? Visit the ' +\n",
              "            '<a target=\"_blank\" href=https://colab.research.google.com/notebooks/data_table.ipynb>data table notebook</a>'\n",
              "            + ' to learn more about interactive tables.';\n",
              "          element.innerHTML = '';\n",
              "          dataTable['output_type'] = 'display_data';\n",
              "          await google.colab.output.renderOutput(dataTable, element);\n",
              "          const docLink = document.createElement('div');\n",
              "          docLink.innerHTML = docLinkHtml;\n",
              "          element.appendChild(docLink);\n",
              "        }\n",
              "      </script>\n",
              "    </div>\n",
              "  </div>\n",
              "  "
            ]
          },
          "metadata": {},
          "execution_count": 18
        }
      ]
    },
    {
      "cell_type": "code",
      "source": [
        "export_csv = df.to_csv (r'/content/drive/MyDrive/DeepLearning/Best_Model' + '/best_model_' + str (index_model) + '_result.csv', index_label = 'epochs', header=True)"
      ],
      "metadata": {
        "id": "V0Mg9c1V9KfV"
      },
      "execution_count": null,
      "outputs": []
    },
    {
      "cell_type": "code",
      "source": [
        "df0 = pd.read_csv('/content/drive/MyDrive/DeepLearning/Best_Model/best_model_0_result.csv')\n",
        "df1 = pd.read_csv('/content/drive/MyDrive/DeepLearning/Best_Model/best_model_1_result.csv')"
      ],
      "metadata": {
        "id": "-28_jaKRr0Yf"
      },
      "execution_count": null,
      "outputs": []
    },
    {
      "cell_type": "code",
      "source": [
        "df = pd.concat([df0, df1], ignore_index = True)\n",
        "df.to_csv (r'/content/drive/MyDrive/DeepLearning/Best_Model/best_model_result.csv', header=True)"
      ],
      "metadata": {
        "id": "TcOnAZM3sbjK"
      },
      "execution_count": null,
      "outputs": []
    },
    {
      "cell_type": "code",
      "source": [
        "df"
      ],
      "metadata": {
        "colab": {
          "base_uri": "https://localhost:8080/",
          "height": 520
        },
        "id": "iMSe5QD9btxw",
        "outputId": "f39fd0a7-60a8-482b-fd36-985990d39b3d"
      },
      "execution_count": null,
      "outputs": [
        {
          "output_type": "execute_result",
          "data": {
            "text/plain": [
              "      epochs  accuracy      loss  val_accuracy  val_loss\n",
              "0    epoch 1  0.676384  1.375950      0.922768  0.281616\n",
              "1    epoch 2  0.837490  0.612714      0.935714  0.220367\n",
              "2    epoch 3  0.866217  0.490437      0.942857  0.196605\n",
              "3    epoch 4  0.883620  0.419977      0.951339  0.163495\n",
              "4    epoch 5  0.895043  0.378906      0.955357  0.166858\n",
              "5    epoch 6  0.903333  0.345817      0.958036  0.153504\n",
              "6    epoch 7  0.906678  0.323245      0.950446  0.174767\n",
              "7    epoch 8  0.914430  0.298324      0.955804  0.153359\n",
              "8    epoch 9  0.917604  0.284960      0.950446  0.166642\n",
              "9   epoch 10  0.921728  0.268781      0.953125  0.153581\n",
              "10  epoch 11  0.921700  0.268267      0.956696  0.157746\n",
              "11  epoch 12  0.928758  0.244899      0.960268  0.136925\n",
              "12  epoch 13  0.930572  0.238838      0.956696  0.152549\n",
              "13  epoch 14  0.932173  0.232944      0.960268  0.149064\n",
              "14  epoch 15  0.934341  0.222220      0.956696  0.167053"
            ],
            "text/html": [
              "\n",
              "  <div id=\"df-bfa60ff8-0bef-4be1-a577-f8b7578d0a27\">\n",
              "    <div class=\"colab-df-container\">\n",
              "      <div>\n",
              "<style scoped>\n",
              "    .dataframe tbody tr th:only-of-type {\n",
              "        vertical-align: middle;\n",
              "    }\n",
              "\n",
              "    .dataframe tbody tr th {\n",
              "        vertical-align: top;\n",
              "    }\n",
              "\n",
              "    .dataframe thead th {\n",
              "        text-align: right;\n",
              "    }\n",
              "</style>\n",
              "<table border=\"1\" class=\"dataframe\">\n",
              "  <thead>\n",
              "    <tr style=\"text-align: right;\">\n",
              "      <th></th>\n",
              "      <th>epochs</th>\n",
              "      <th>accuracy</th>\n",
              "      <th>loss</th>\n",
              "      <th>val_accuracy</th>\n",
              "      <th>val_loss</th>\n",
              "    </tr>\n",
              "  </thead>\n",
              "  <tbody>\n",
              "    <tr>\n",
              "      <th>0</th>\n",
              "      <td>epoch 1</td>\n",
              "      <td>0.676384</td>\n",
              "      <td>1.375950</td>\n",
              "      <td>0.922768</td>\n",
              "      <td>0.281616</td>\n",
              "    </tr>\n",
              "    <tr>\n",
              "      <th>1</th>\n",
              "      <td>epoch 2</td>\n",
              "      <td>0.837490</td>\n",
              "      <td>0.612714</td>\n",
              "      <td>0.935714</td>\n",
              "      <td>0.220367</td>\n",
              "    </tr>\n",
              "    <tr>\n",
              "      <th>2</th>\n",
              "      <td>epoch 3</td>\n",
              "      <td>0.866217</td>\n",
              "      <td>0.490437</td>\n",
              "      <td>0.942857</td>\n",
              "      <td>0.196605</td>\n",
              "    </tr>\n",
              "    <tr>\n",
              "      <th>3</th>\n",
              "      <td>epoch 4</td>\n",
              "      <td>0.883620</td>\n",
              "      <td>0.419977</td>\n",
              "      <td>0.951339</td>\n",
              "      <td>0.163495</td>\n",
              "    </tr>\n",
              "    <tr>\n",
              "      <th>4</th>\n",
              "      <td>epoch 5</td>\n",
              "      <td>0.895043</td>\n",
              "      <td>0.378906</td>\n",
              "      <td>0.955357</td>\n",
              "      <td>0.166858</td>\n",
              "    </tr>\n",
              "    <tr>\n",
              "      <th>5</th>\n",
              "      <td>epoch 6</td>\n",
              "      <td>0.903333</td>\n",
              "      <td>0.345817</td>\n",
              "      <td>0.958036</td>\n",
              "      <td>0.153504</td>\n",
              "    </tr>\n",
              "    <tr>\n",
              "      <th>6</th>\n",
              "      <td>epoch 7</td>\n",
              "      <td>0.906678</td>\n",
              "      <td>0.323245</td>\n",
              "      <td>0.950446</td>\n",
              "      <td>0.174767</td>\n",
              "    </tr>\n",
              "    <tr>\n",
              "      <th>7</th>\n",
              "      <td>epoch 8</td>\n",
              "      <td>0.914430</td>\n",
              "      <td>0.298324</td>\n",
              "      <td>0.955804</td>\n",
              "      <td>0.153359</td>\n",
              "    </tr>\n",
              "    <tr>\n",
              "      <th>8</th>\n",
              "      <td>epoch 9</td>\n",
              "      <td>0.917604</td>\n",
              "      <td>0.284960</td>\n",
              "      <td>0.950446</td>\n",
              "      <td>0.166642</td>\n",
              "    </tr>\n",
              "    <tr>\n",
              "      <th>9</th>\n",
              "      <td>epoch 10</td>\n",
              "      <td>0.921728</td>\n",
              "      <td>0.268781</td>\n",
              "      <td>0.953125</td>\n",
              "      <td>0.153581</td>\n",
              "    </tr>\n",
              "    <tr>\n",
              "      <th>10</th>\n",
              "      <td>epoch 11</td>\n",
              "      <td>0.921700</td>\n",
              "      <td>0.268267</td>\n",
              "      <td>0.956696</td>\n",
              "      <td>0.157746</td>\n",
              "    </tr>\n",
              "    <tr>\n",
              "      <th>11</th>\n",
              "      <td>epoch 12</td>\n",
              "      <td>0.928758</td>\n",
              "      <td>0.244899</td>\n",
              "      <td>0.960268</td>\n",
              "      <td>0.136925</td>\n",
              "    </tr>\n",
              "    <tr>\n",
              "      <th>12</th>\n",
              "      <td>epoch 13</td>\n",
              "      <td>0.930572</td>\n",
              "      <td>0.238838</td>\n",
              "      <td>0.956696</td>\n",
              "      <td>0.152549</td>\n",
              "    </tr>\n",
              "    <tr>\n",
              "      <th>13</th>\n",
              "      <td>epoch 14</td>\n",
              "      <td>0.932173</td>\n",
              "      <td>0.232944</td>\n",
              "      <td>0.960268</td>\n",
              "      <td>0.149064</td>\n",
              "    </tr>\n",
              "    <tr>\n",
              "      <th>14</th>\n",
              "      <td>epoch 15</td>\n",
              "      <td>0.934341</td>\n",
              "      <td>0.222220</td>\n",
              "      <td>0.956696</td>\n",
              "      <td>0.167053</td>\n",
              "    </tr>\n",
              "  </tbody>\n",
              "</table>\n",
              "</div>\n",
              "      <button class=\"colab-df-convert\" onclick=\"convertToInteractive('df-bfa60ff8-0bef-4be1-a577-f8b7578d0a27')\"\n",
              "              title=\"Convert this dataframe to an interactive table.\"\n",
              "              style=\"display:none;\">\n",
              "        \n",
              "  <svg xmlns=\"http://www.w3.org/2000/svg\" height=\"24px\"viewBox=\"0 0 24 24\"\n",
              "       width=\"24px\">\n",
              "    <path d=\"M0 0h24v24H0V0z\" fill=\"none\"/>\n",
              "    <path d=\"M18.56 5.44l.94 2.06.94-2.06 2.06-.94-2.06-.94-.94-2.06-.94 2.06-2.06.94zm-11 1L8.5 8.5l.94-2.06 2.06-.94-2.06-.94L8.5 2.5l-.94 2.06-2.06.94zm10 10l.94 2.06.94-2.06 2.06-.94-2.06-.94-.94-2.06-.94 2.06-2.06.94z\"/><path d=\"M17.41 7.96l-1.37-1.37c-.4-.4-.92-.59-1.43-.59-.52 0-1.04.2-1.43.59L10.3 9.45l-7.72 7.72c-.78.78-.78 2.05 0 2.83L4 21.41c.39.39.9.59 1.41.59.51 0 1.02-.2 1.41-.59l7.78-7.78 2.81-2.81c.8-.78.8-2.07 0-2.86zM5.41 20L4 18.59l7.72-7.72 1.47 1.35L5.41 20z\"/>\n",
              "  </svg>\n",
              "      </button>\n",
              "      \n",
              "  <style>\n",
              "    .colab-df-container {\n",
              "      display:flex;\n",
              "      flex-wrap:wrap;\n",
              "      gap: 12px;\n",
              "    }\n",
              "\n",
              "    .colab-df-convert {\n",
              "      background-color: #E8F0FE;\n",
              "      border: none;\n",
              "      border-radius: 50%;\n",
              "      cursor: pointer;\n",
              "      display: none;\n",
              "      fill: #1967D2;\n",
              "      height: 32px;\n",
              "      padding: 0 0 0 0;\n",
              "      width: 32px;\n",
              "    }\n",
              "\n",
              "    .colab-df-convert:hover {\n",
              "      background-color: #E2EBFA;\n",
              "      box-shadow: 0px 1px 2px rgba(60, 64, 67, 0.3), 0px 1px 3px 1px rgba(60, 64, 67, 0.15);\n",
              "      fill: #174EA6;\n",
              "    }\n",
              "\n",
              "    [theme=dark] .colab-df-convert {\n",
              "      background-color: #3B4455;\n",
              "      fill: #D2E3FC;\n",
              "    }\n",
              "\n",
              "    [theme=dark] .colab-df-convert:hover {\n",
              "      background-color: #434B5C;\n",
              "      box-shadow: 0px 1px 3px 1px rgba(0, 0, 0, 0.15);\n",
              "      filter: drop-shadow(0px 1px 2px rgba(0, 0, 0, 0.3));\n",
              "      fill: #FFFFFF;\n",
              "    }\n",
              "  </style>\n",
              "\n",
              "      <script>\n",
              "        const buttonEl =\n",
              "          document.querySelector('#df-bfa60ff8-0bef-4be1-a577-f8b7578d0a27 button.colab-df-convert');\n",
              "        buttonEl.style.display =\n",
              "          google.colab.kernel.accessAllowed ? 'block' : 'none';\n",
              "\n",
              "        async function convertToInteractive(key) {\n",
              "          const element = document.querySelector('#df-bfa60ff8-0bef-4be1-a577-f8b7578d0a27');\n",
              "          const dataTable =\n",
              "            await google.colab.kernel.invokeFunction('convertToInteractive',\n",
              "                                                     [key], {});\n",
              "          if (!dataTable) return;\n",
              "\n",
              "          const docLinkHtml = 'Like what you see? Visit the ' +\n",
              "            '<a target=\"_blank\" href=https://colab.research.google.com/notebooks/data_table.ipynb>data table notebook</a>'\n",
              "            + ' to learn more about interactive tables.';\n",
              "          element.innerHTML = '';\n",
              "          dataTable['output_type'] = 'display_data';\n",
              "          await google.colab.output.renderOutput(dataTable, element);\n",
              "          const docLink = document.createElement('div');\n",
              "          docLink.innerHTML = docLinkHtml;\n",
              "          element.appendChild(docLink);\n",
              "        }\n",
              "      </script>\n",
              "    </div>\n",
              "  </div>\n",
              "  "
            ]
          },
          "metadata": {},
          "execution_count": 33
        }
      ]
    },
    {
      "cell_type": "code",
      "source": [
        "df.iloc[:,1:]"
      ],
      "metadata": {
        "colab": {
          "base_uri": "https://localhost:8080/",
          "height": 520
        },
        "id": "505vyKPKcemq",
        "outputId": "0c18093d-aee6-42db-b0a8-114a861f8746"
      },
      "execution_count": null,
      "outputs": [
        {
          "output_type": "execute_result",
          "data": {
            "text/plain": [
              "    accuracy      loss  val_accuracy  val_loss\n",
              "0   0.676384  1.375950      0.922768  0.281616\n",
              "1   0.837490  0.612714      0.935714  0.220367\n",
              "2   0.866217  0.490437      0.942857  0.196605\n",
              "3   0.883620  0.419977      0.951339  0.163495\n",
              "4   0.895043  0.378906      0.955357  0.166858\n",
              "5   0.903333  0.345817      0.958036  0.153504\n",
              "6   0.906678  0.323245      0.950446  0.174767\n",
              "7   0.914430  0.298324      0.955804  0.153359\n",
              "8   0.917604  0.284960      0.950446  0.166642\n",
              "9   0.921728  0.268781      0.953125  0.153581\n",
              "10  0.921700  0.268267      0.956696  0.157746\n",
              "11  0.928758  0.244899      0.960268  0.136925\n",
              "12  0.930572  0.238838      0.956696  0.152549\n",
              "13  0.932173  0.232944      0.960268  0.149064\n",
              "14  0.934341  0.222220      0.956696  0.167053"
            ],
            "text/html": [
              "\n",
              "  <div id=\"df-0c55130c-cab6-44b4-bf84-cb93de9d8f40\">\n",
              "    <div class=\"colab-df-container\">\n",
              "      <div>\n",
              "<style scoped>\n",
              "    .dataframe tbody tr th:only-of-type {\n",
              "        vertical-align: middle;\n",
              "    }\n",
              "\n",
              "    .dataframe tbody tr th {\n",
              "        vertical-align: top;\n",
              "    }\n",
              "\n",
              "    .dataframe thead th {\n",
              "        text-align: right;\n",
              "    }\n",
              "</style>\n",
              "<table border=\"1\" class=\"dataframe\">\n",
              "  <thead>\n",
              "    <tr style=\"text-align: right;\">\n",
              "      <th></th>\n",
              "      <th>accuracy</th>\n",
              "      <th>loss</th>\n",
              "      <th>val_accuracy</th>\n",
              "      <th>val_loss</th>\n",
              "    </tr>\n",
              "  </thead>\n",
              "  <tbody>\n",
              "    <tr>\n",
              "      <th>0</th>\n",
              "      <td>0.676384</td>\n",
              "      <td>1.375950</td>\n",
              "      <td>0.922768</td>\n",
              "      <td>0.281616</td>\n",
              "    </tr>\n",
              "    <tr>\n",
              "      <th>1</th>\n",
              "      <td>0.837490</td>\n",
              "      <td>0.612714</td>\n",
              "      <td>0.935714</td>\n",
              "      <td>0.220367</td>\n",
              "    </tr>\n",
              "    <tr>\n",
              "      <th>2</th>\n",
              "      <td>0.866217</td>\n",
              "      <td>0.490437</td>\n",
              "      <td>0.942857</td>\n",
              "      <td>0.196605</td>\n",
              "    </tr>\n",
              "    <tr>\n",
              "      <th>3</th>\n",
              "      <td>0.883620</td>\n",
              "      <td>0.419977</td>\n",
              "      <td>0.951339</td>\n",
              "      <td>0.163495</td>\n",
              "    </tr>\n",
              "    <tr>\n",
              "      <th>4</th>\n",
              "      <td>0.895043</td>\n",
              "      <td>0.378906</td>\n",
              "      <td>0.955357</td>\n",
              "      <td>0.166858</td>\n",
              "    </tr>\n",
              "    <tr>\n",
              "      <th>5</th>\n",
              "      <td>0.903333</td>\n",
              "      <td>0.345817</td>\n",
              "      <td>0.958036</td>\n",
              "      <td>0.153504</td>\n",
              "    </tr>\n",
              "    <tr>\n",
              "      <th>6</th>\n",
              "      <td>0.906678</td>\n",
              "      <td>0.323245</td>\n",
              "      <td>0.950446</td>\n",
              "      <td>0.174767</td>\n",
              "    </tr>\n",
              "    <tr>\n",
              "      <th>7</th>\n",
              "      <td>0.914430</td>\n",
              "      <td>0.298324</td>\n",
              "      <td>0.955804</td>\n",
              "      <td>0.153359</td>\n",
              "    </tr>\n",
              "    <tr>\n",
              "      <th>8</th>\n",
              "      <td>0.917604</td>\n",
              "      <td>0.284960</td>\n",
              "      <td>0.950446</td>\n",
              "      <td>0.166642</td>\n",
              "    </tr>\n",
              "    <tr>\n",
              "      <th>9</th>\n",
              "      <td>0.921728</td>\n",
              "      <td>0.268781</td>\n",
              "      <td>0.953125</td>\n",
              "      <td>0.153581</td>\n",
              "    </tr>\n",
              "    <tr>\n",
              "      <th>10</th>\n",
              "      <td>0.921700</td>\n",
              "      <td>0.268267</td>\n",
              "      <td>0.956696</td>\n",
              "      <td>0.157746</td>\n",
              "    </tr>\n",
              "    <tr>\n",
              "      <th>11</th>\n",
              "      <td>0.928758</td>\n",
              "      <td>0.244899</td>\n",
              "      <td>0.960268</td>\n",
              "      <td>0.136925</td>\n",
              "    </tr>\n",
              "    <tr>\n",
              "      <th>12</th>\n",
              "      <td>0.930572</td>\n",
              "      <td>0.238838</td>\n",
              "      <td>0.956696</td>\n",
              "      <td>0.152549</td>\n",
              "    </tr>\n",
              "    <tr>\n",
              "      <th>13</th>\n",
              "      <td>0.932173</td>\n",
              "      <td>0.232944</td>\n",
              "      <td>0.960268</td>\n",
              "      <td>0.149064</td>\n",
              "    </tr>\n",
              "    <tr>\n",
              "      <th>14</th>\n",
              "      <td>0.934341</td>\n",
              "      <td>0.222220</td>\n",
              "      <td>0.956696</td>\n",
              "      <td>0.167053</td>\n",
              "    </tr>\n",
              "  </tbody>\n",
              "</table>\n",
              "</div>\n",
              "      <button class=\"colab-df-convert\" onclick=\"convertToInteractive('df-0c55130c-cab6-44b4-bf84-cb93de9d8f40')\"\n",
              "              title=\"Convert this dataframe to an interactive table.\"\n",
              "              style=\"display:none;\">\n",
              "        \n",
              "  <svg xmlns=\"http://www.w3.org/2000/svg\" height=\"24px\"viewBox=\"0 0 24 24\"\n",
              "       width=\"24px\">\n",
              "    <path d=\"M0 0h24v24H0V0z\" fill=\"none\"/>\n",
              "    <path d=\"M18.56 5.44l.94 2.06.94-2.06 2.06-.94-2.06-.94-.94-2.06-.94 2.06-2.06.94zm-11 1L8.5 8.5l.94-2.06 2.06-.94-2.06-.94L8.5 2.5l-.94 2.06-2.06.94zm10 10l.94 2.06.94-2.06 2.06-.94-2.06-.94-.94-2.06-.94 2.06-2.06.94z\"/><path d=\"M17.41 7.96l-1.37-1.37c-.4-.4-.92-.59-1.43-.59-.52 0-1.04.2-1.43.59L10.3 9.45l-7.72 7.72c-.78.78-.78 2.05 0 2.83L4 21.41c.39.39.9.59 1.41.59.51 0 1.02-.2 1.41-.59l7.78-7.78 2.81-2.81c.8-.78.8-2.07 0-2.86zM5.41 20L4 18.59l7.72-7.72 1.47 1.35L5.41 20z\"/>\n",
              "  </svg>\n",
              "      </button>\n",
              "      \n",
              "  <style>\n",
              "    .colab-df-container {\n",
              "      display:flex;\n",
              "      flex-wrap:wrap;\n",
              "      gap: 12px;\n",
              "    }\n",
              "\n",
              "    .colab-df-convert {\n",
              "      background-color: #E8F0FE;\n",
              "      border: none;\n",
              "      border-radius: 50%;\n",
              "      cursor: pointer;\n",
              "      display: none;\n",
              "      fill: #1967D2;\n",
              "      height: 32px;\n",
              "      padding: 0 0 0 0;\n",
              "      width: 32px;\n",
              "    }\n",
              "\n",
              "    .colab-df-convert:hover {\n",
              "      background-color: #E2EBFA;\n",
              "      box-shadow: 0px 1px 2px rgba(60, 64, 67, 0.3), 0px 1px 3px 1px rgba(60, 64, 67, 0.15);\n",
              "      fill: #174EA6;\n",
              "    }\n",
              "\n",
              "    [theme=dark] .colab-df-convert {\n",
              "      background-color: #3B4455;\n",
              "      fill: #D2E3FC;\n",
              "    }\n",
              "\n",
              "    [theme=dark] .colab-df-convert:hover {\n",
              "      background-color: #434B5C;\n",
              "      box-shadow: 0px 1px 3px 1px rgba(0, 0, 0, 0.15);\n",
              "      filter: drop-shadow(0px 1px 2px rgba(0, 0, 0, 0.3));\n",
              "      fill: #FFFFFF;\n",
              "    }\n",
              "  </style>\n",
              "\n",
              "      <script>\n",
              "        const buttonEl =\n",
              "          document.querySelector('#df-0c55130c-cab6-44b4-bf84-cb93de9d8f40 button.colab-df-convert');\n",
              "        buttonEl.style.display =\n",
              "          google.colab.kernel.accessAllowed ? 'block' : 'none';\n",
              "\n",
              "        async function convertToInteractive(key) {\n",
              "          const element = document.querySelector('#df-0c55130c-cab6-44b4-bf84-cb93de9d8f40');\n",
              "          const dataTable =\n",
              "            await google.colab.kernel.invokeFunction('convertToInteractive',\n",
              "                                                     [key], {});\n",
              "          if (!dataTable) return;\n",
              "\n",
              "          const docLinkHtml = 'Like what you see? Visit the ' +\n",
              "            '<a target=\"_blank\" href=https://colab.research.google.com/notebooks/data_table.ipynb>data table notebook</a>'\n",
              "            + ' to learn more about interactive tables.';\n",
              "          element.innerHTML = '';\n",
              "          dataTable['output_type'] = 'display_data';\n",
              "          await google.colab.output.renderOutput(dataTable, element);\n",
              "          const docLink = document.createElement('div');\n",
              "          docLink.innerHTML = docLinkHtml;\n",
              "          element.appendChild(docLink);\n",
              "        }\n",
              "      </script>\n",
              "    </div>\n",
              "  </div>\n",
              "  "
            ]
          },
          "metadata": {},
          "execution_count": 52
        }
      ]
    },
    {
      "cell_type": "code",
      "source": [
        "result = pd.read_csv('/content/drive/MyDrive/DeepLearning/Best_Model/best_model_result.csv').iloc[:,1:]\n",
        "result"
      ],
      "metadata": {
        "colab": {
          "base_uri": "https://localhost:8080/",
          "height": 520
        },
        "id": "vE6ekZM1a9w0",
        "outputId": "173bb13f-b1cf-47f3-c1c5-44e723eed8fa"
      },
      "execution_count": null,
      "outputs": [
        {
          "output_type": "execute_result",
          "data": {
            "text/plain": [
              "      epochs  accuracy      loss  val_accuracy  val_loss\n",
              "0    epoch 1  0.676384  1.375950      0.922768  0.281616\n",
              "1    epoch 2  0.837490  0.612714      0.935714  0.220367\n",
              "2    epoch 3  0.866217  0.490437      0.942857  0.196605\n",
              "3    epoch 4  0.883620  0.419977      0.951339  0.163495\n",
              "4    epoch 5  0.895043  0.378906      0.955357  0.166858\n",
              "5    epoch 6  0.903333  0.345817      0.958036  0.153504\n",
              "6    epoch 7  0.906678  0.323245      0.950446  0.174767\n",
              "7    epoch 8  0.914430  0.298324      0.955804  0.153359\n",
              "8    epoch 9  0.917604  0.284960      0.950446  0.166642\n",
              "9   epoch 10  0.921728  0.268781      0.953125  0.153581\n",
              "10  epoch 11  0.921700  0.268267      0.956696  0.157746\n",
              "11  epoch 12  0.928758  0.244899      0.960268  0.136925\n",
              "12  epoch 13  0.930572  0.238838      0.956696  0.152549\n",
              "13  epoch 14  0.932173  0.232944      0.960268  0.149064\n",
              "14  epoch 15  0.934341  0.222220      0.956696  0.167053"
            ],
            "text/html": [
              "\n",
              "  <div id=\"df-577cd95c-856f-486d-8039-8b95f6f1b6c6\">\n",
              "    <div class=\"colab-df-container\">\n",
              "      <div>\n",
              "<style scoped>\n",
              "    .dataframe tbody tr th:only-of-type {\n",
              "        vertical-align: middle;\n",
              "    }\n",
              "\n",
              "    .dataframe tbody tr th {\n",
              "        vertical-align: top;\n",
              "    }\n",
              "\n",
              "    .dataframe thead th {\n",
              "        text-align: right;\n",
              "    }\n",
              "</style>\n",
              "<table border=\"1\" class=\"dataframe\">\n",
              "  <thead>\n",
              "    <tr style=\"text-align: right;\">\n",
              "      <th></th>\n",
              "      <th>epochs</th>\n",
              "      <th>accuracy</th>\n",
              "      <th>loss</th>\n",
              "      <th>val_accuracy</th>\n",
              "      <th>val_loss</th>\n",
              "    </tr>\n",
              "  </thead>\n",
              "  <tbody>\n",
              "    <tr>\n",
              "      <th>0</th>\n",
              "      <td>epoch 1</td>\n",
              "      <td>0.676384</td>\n",
              "      <td>1.375950</td>\n",
              "      <td>0.922768</td>\n",
              "      <td>0.281616</td>\n",
              "    </tr>\n",
              "    <tr>\n",
              "      <th>1</th>\n",
              "      <td>epoch 2</td>\n",
              "      <td>0.837490</td>\n",
              "      <td>0.612714</td>\n",
              "      <td>0.935714</td>\n",
              "      <td>0.220367</td>\n",
              "    </tr>\n",
              "    <tr>\n",
              "      <th>2</th>\n",
              "      <td>epoch 3</td>\n",
              "      <td>0.866217</td>\n",
              "      <td>0.490437</td>\n",
              "      <td>0.942857</td>\n",
              "      <td>0.196605</td>\n",
              "    </tr>\n",
              "    <tr>\n",
              "      <th>3</th>\n",
              "      <td>epoch 4</td>\n",
              "      <td>0.883620</td>\n",
              "      <td>0.419977</td>\n",
              "      <td>0.951339</td>\n",
              "      <td>0.163495</td>\n",
              "    </tr>\n",
              "    <tr>\n",
              "      <th>4</th>\n",
              "      <td>epoch 5</td>\n",
              "      <td>0.895043</td>\n",
              "      <td>0.378906</td>\n",
              "      <td>0.955357</td>\n",
              "      <td>0.166858</td>\n",
              "    </tr>\n",
              "    <tr>\n",
              "      <th>5</th>\n",
              "      <td>epoch 6</td>\n",
              "      <td>0.903333</td>\n",
              "      <td>0.345817</td>\n",
              "      <td>0.958036</td>\n",
              "      <td>0.153504</td>\n",
              "    </tr>\n",
              "    <tr>\n",
              "      <th>6</th>\n",
              "      <td>epoch 7</td>\n",
              "      <td>0.906678</td>\n",
              "      <td>0.323245</td>\n",
              "      <td>0.950446</td>\n",
              "      <td>0.174767</td>\n",
              "    </tr>\n",
              "    <tr>\n",
              "      <th>7</th>\n",
              "      <td>epoch 8</td>\n",
              "      <td>0.914430</td>\n",
              "      <td>0.298324</td>\n",
              "      <td>0.955804</td>\n",
              "      <td>0.153359</td>\n",
              "    </tr>\n",
              "    <tr>\n",
              "      <th>8</th>\n",
              "      <td>epoch 9</td>\n",
              "      <td>0.917604</td>\n",
              "      <td>0.284960</td>\n",
              "      <td>0.950446</td>\n",
              "      <td>0.166642</td>\n",
              "    </tr>\n",
              "    <tr>\n",
              "      <th>9</th>\n",
              "      <td>epoch 10</td>\n",
              "      <td>0.921728</td>\n",
              "      <td>0.268781</td>\n",
              "      <td>0.953125</td>\n",
              "      <td>0.153581</td>\n",
              "    </tr>\n",
              "    <tr>\n",
              "      <th>10</th>\n",
              "      <td>epoch 11</td>\n",
              "      <td>0.921700</td>\n",
              "      <td>0.268267</td>\n",
              "      <td>0.956696</td>\n",
              "      <td>0.157746</td>\n",
              "    </tr>\n",
              "    <tr>\n",
              "      <th>11</th>\n",
              "      <td>epoch 12</td>\n",
              "      <td>0.928758</td>\n",
              "      <td>0.244899</td>\n",
              "      <td>0.960268</td>\n",
              "      <td>0.136925</td>\n",
              "    </tr>\n",
              "    <tr>\n",
              "      <th>12</th>\n",
              "      <td>epoch 13</td>\n",
              "      <td>0.930572</td>\n",
              "      <td>0.238838</td>\n",
              "      <td>0.956696</td>\n",
              "      <td>0.152549</td>\n",
              "    </tr>\n",
              "    <tr>\n",
              "      <th>13</th>\n",
              "      <td>epoch 14</td>\n",
              "      <td>0.932173</td>\n",
              "      <td>0.232944</td>\n",
              "      <td>0.960268</td>\n",
              "      <td>0.149064</td>\n",
              "    </tr>\n",
              "    <tr>\n",
              "      <th>14</th>\n",
              "      <td>epoch 15</td>\n",
              "      <td>0.934341</td>\n",
              "      <td>0.222220</td>\n",
              "      <td>0.956696</td>\n",
              "      <td>0.167053</td>\n",
              "    </tr>\n",
              "  </tbody>\n",
              "</table>\n",
              "</div>\n",
              "      <button class=\"colab-df-convert\" onclick=\"convertToInteractive('df-577cd95c-856f-486d-8039-8b95f6f1b6c6')\"\n",
              "              title=\"Convert this dataframe to an interactive table.\"\n",
              "              style=\"display:none;\">\n",
              "        \n",
              "  <svg xmlns=\"http://www.w3.org/2000/svg\" height=\"24px\"viewBox=\"0 0 24 24\"\n",
              "       width=\"24px\">\n",
              "    <path d=\"M0 0h24v24H0V0z\" fill=\"none\"/>\n",
              "    <path d=\"M18.56 5.44l.94 2.06.94-2.06 2.06-.94-2.06-.94-.94-2.06-.94 2.06-2.06.94zm-11 1L8.5 8.5l.94-2.06 2.06-.94-2.06-.94L8.5 2.5l-.94 2.06-2.06.94zm10 10l.94 2.06.94-2.06 2.06-.94-2.06-.94-.94-2.06-.94 2.06-2.06.94z\"/><path d=\"M17.41 7.96l-1.37-1.37c-.4-.4-.92-.59-1.43-.59-.52 0-1.04.2-1.43.59L10.3 9.45l-7.72 7.72c-.78.78-.78 2.05 0 2.83L4 21.41c.39.39.9.59 1.41.59.51 0 1.02-.2 1.41-.59l7.78-7.78 2.81-2.81c.8-.78.8-2.07 0-2.86zM5.41 20L4 18.59l7.72-7.72 1.47 1.35L5.41 20z\"/>\n",
              "  </svg>\n",
              "      </button>\n",
              "      \n",
              "  <style>\n",
              "    .colab-df-container {\n",
              "      display:flex;\n",
              "      flex-wrap:wrap;\n",
              "      gap: 12px;\n",
              "    }\n",
              "\n",
              "    .colab-df-convert {\n",
              "      background-color: #E8F0FE;\n",
              "      border: none;\n",
              "      border-radius: 50%;\n",
              "      cursor: pointer;\n",
              "      display: none;\n",
              "      fill: #1967D2;\n",
              "      height: 32px;\n",
              "      padding: 0 0 0 0;\n",
              "      width: 32px;\n",
              "    }\n",
              "\n",
              "    .colab-df-convert:hover {\n",
              "      background-color: #E2EBFA;\n",
              "      box-shadow: 0px 1px 2px rgba(60, 64, 67, 0.3), 0px 1px 3px 1px rgba(60, 64, 67, 0.15);\n",
              "      fill: #174EA6;\n",
              "    }\n",
              "\n",
              "    [theme=dark] .colab-df-convert {\n",
              "      background-color: #3B4455;\n",
              "      fill: #D2E3FC;\n",
              "    }\n",
              "\n",
              "    [theme=dark] .colab-df-convert:hover {\n",
              "      background-color: #434B5C;\n",
              "      box-shadow: 0px 1px 3px 1px rgba(0, 0, 0, 0.15);\n",
              "      filter: drop-shadow(0px 1px 2px rgba(0, 0, 0, 0.3));\n",
              "      fill: #FFFFFF;\n",
              "    }\n",
              "  </style>\n",
              "\n",
              "      <script>\n",
              "        const buttonEl =\n",
              "          document.querySelector('#df-577cd95c-856f-486d-8039-8b95f6f1b6c6 button.colab-df-convert');\n",
              "        buttonEl.style.display =\n",
              "          google.colab.kernel.accessAllowed ? 'block' : 'none';\n",
              "\n",
              "        async function convertToInteractive(key) {\n",
              "          const element = document.querySelector('#df-577cd95c-856f-486d-8039-8b95f6f1b6c6');\n",
              "          const dataTable =\n",
              "            await google.colab.kernel.invokeFunction('convertToInteractive',\n",
              "                                                     [key], {});\n",
              "          if (!dataTable) return;\n",
              "\n",
              "          const docLinkHtml = 'Like what you see? Visit the ' +\n",
              "            '<a target=\"_blank\" href=https://colab.research.google.com/notebooks/data_table.ipynb>data table notebook</a>'\n",
              "            + ' to learn more about interactive tables.';\n",
              "          element.innerHTML = '';\n",
              "          dataTable['output_type'] = 'display_data';\n",
              "          await google.colab.output.renderOutput(dataTable, element);\n",
              "          const docLink = document.createElement('div');\n",
              "          docLink.innerHTML = docLinkHtml;\n",
              "          element.appendChild(docLink);\n",
              "        }\n",
              "      </script>\n",
              "    </div>\n",
              "  </div>\n",
              "  "
            ]
          },
          "metadata": {},
          "execution_count": 54
        }
      ]
    },
    {
      "cell_type": "markdown",
      "source": [
        "#Evaluation"
      ],
      "metadata": {
        "id": "dLj-SaIvh6QV"
      }
    },
    {
      "cell_type": "code",
      "execution_count": null,
      "metadata": {
        "execution": {
          "iopub.execute_input": "2020-09-15T03:47:27.643081Z",
          "iopub.status.busy": "2020-09-15T03:47:27.636301Z",
          "iopub.status.idle": "2020-09-15T03:47:27.893965Z",
          "shell.execute_reply": "2020-09-15T03:47:27.894691Z"
        },
        "papermill": {
          "duration": 7.337459,
          "end_time": "2020-09-15T03:47:27.895571",
          "exception": false,
          "start_time": "2020-09-15T03:47:20.558112",
          "status": "completed"
        },
        "tags": [],
        "id": "M8uMvOgKTJPL",
        "colab": {
          "base_uri": "https://localhost:8080/",
          "height": 325
        },
        "outputId": "9ba2b9fc-3f5a-4997-8198-411b9d0f1f03"
      },
      "outputs": [
        {
          "output_type": "display_data",
          "data": {
            "text/plain": [
              "<Figure size 432x288 with 1 Axes>"
            ],
            "image/png": "[encoded data removed]"
          },
          "metadata": {}
        }
      ],
      "source": [
        "epochs = len(df)\n",
        "plt.style.use('fivethirtyeight')\n",
        "plt.title('Model Accuracy')\n",
        "plt.plot(range(1, epochs+1), df['accuracy'], label=\"training\")\n",
        "plt.plot(range(1, epochs+1), df['val_accuracy'], label=\"validation\")\n",
        "plt.xlabel('Epochs')\n",
        "plt.ylabel('Accuracy')\n",
        "plt.legend()\n",
        "plt.show()"
      ]
    },
    {
      "cell_type": "code",
      "execution_count": null,
      "metadata": {
        "execution": {
          "iopub.execute_input": "2020-09-15T03:47:43.350112Z",
          "iopub.status.busy": "2020-09-15T03:47:43.349168Z",
          "iopub.status.idle": "2020-09-15T03:47:43.498578Z",
          "shell.execute_reply": "2020-09-15T03:47:43.499103Z"
        },
        "papermill": {
          "duration": 8.210591,
          "end_time": "2020-09-15T03:47:43.499243",
          "exception": false,
          "start_time": "2020-09-15T03:47:35.288652",
          "status": "completed"
        },
        "tags": [],
        "id": "VhQnjcbaTJPM",
        "colab": {
          "base_uri": "https://localhost:8080/",
          "height": 325
        },
        "outputId": "0e4d7e45-ad00-4c16-d5f2-bf344d5f9da8"
      },
      "outputs": [
        {
          "output_type": "display_data",
          "data": {
            "text/plain": [
              "<Figure size 432x288 with 1 Axes>"
            ],
            "image/png": "[encoded data removed]"
          },
          "metadata": {}
        }
      ],
      "source": [
        "plt.style.use('fivethirtyeight')\n",
        "plt.title('Model Loss')\n",
        "plt.plot(range(1, epochs+1), df['loss'], label=\"training\")\n",
        "plt.plot(range(1, epochs+1), df['val_loss'], label=\"validation\")\n",
        "plt.xlabel('Epochs')\n",
        "plt.ylabel('Loss')\n",
        "plt.legend()\n",
        "plt.show()"
      ]
    },
    {
      "cell_type": "code",
      "source": [
        "model = load_model('/content/drive/MyDrive/DeepLearning/Best_Model/best_model_1.h5')"
      ],
      "metadata": {
        "id": "JRQ-GbKnubBv"
      },
      "execution_count": null,
      "outputs": []
    },
    {
      "cell_type": "code",
      "source": [
        "# Load Test Data\n",
        "test_datagen = ImageDataGenerator(preprocessing_function=preprocess_input)\n",
        "test_generator = test_datagen.flow_from_directory(\n",
        "            test_dir,\n",
        "            target_size=(IMG_WIDTH,IMG_HEIGHT),\n",
        "            batch_size=1,\n",
        "            class_mode='categorical',\n",
        "            shuffle=False\n",
        "          )"
      ],
      "metadata": {
        "colab": {
          "base_uri": "https://localhost:8080/"
        },
        "id": "XKo2DPGUy5x6",
        "outputId": "676e3ef3-d063-4636-f6ed-2a96a608d45f"
      },
      "execution_count": null,
      "outputs": [
        {
          "output_type": "stream",
          "name": "stdout",
          "text": [
            "Found 2250 images belonging to 450 classes.\n"
          ]
        }
      ]
    },
    {
      "cell_type": "code",
      "source": [
        "new_model_evaluation = model.evaluate(test_generator, verbose=1)"
      ],
      "metadata": {
        "colab": {
          "base_uri": "https://localhost:8080/"
        },
        "id": "nqdBYdWUyyQZ",
        "outputId": "85097010-43b3-4fa0-f5f0-fc483d870b92"
      },
      "execution_count": null,
      "outputs": [
        {
          "output_type": "stream",
          "name": "stdout",
          "text": [
            "2250/2250 [==============================] - 39s 14ms/step - loss: 0.1099 - accuracy: 0.9689\n"
          ]
        }
      ]
    },
    {
      "cell_type": "code",
      "source": [
        "predict = model.predict (test_generator)"
      ],
      "metadata": {
        "colab": {
          "base_uri": "https://localhost:8080/"
        },
        "id": "5MGDPtqiiIFg",
        "outputId": "a64d1659-ff01-4d91-94ad-c286b87a2229"
      },
      "execution_count": null,
      "outputs": [
        {
          "output_type": "stream",
          "name": "stdout",
          "text": [
            "2250/2250 [==============================] - 203s 89ms/step\n"
          ]
        }
      ]
    },
    {
      "cell_type": "code",
      "source": [
        "# Path test image\n",
        "img_test = []\n",
        "for i in sorted (os.listdir(test_dir)):\n",
        "  bird = os.path.join(test_dir, i)\n",
        "  for j in sorted(os.listdir(bird)):\n",
        "    img_test.append (os.path.join(bird, j))"
      ],
      "metadata": {
        "id": "0qpYl0l0LWYa"
      },
      "execution_count": null,
      "outputs": []
    },
    {
      "cell_type": "code",
      "source": [
        "#Predict images\n",
        "true_labels = []\n",
        "pred_labels = []\n",
        "for k in range (len (test_generator)):\n",
        "  images = img_test [k]\n",
        "  true_label = np.argmax (test_generator[k][1])\n",
        "  pred_label = np.argmax (model.predict (test_generator[k][0]))\n",
        "  true_labels.append (true_label)\n",
        "  pred_labels.append (pred_label)\n"
      ],
      "metadata": {
        "id": "8MbJczbEN9cz"
      },
      "execution_count": null,
      "outputs": []
    },
    {
      "cell_type": "code",
      "source": [
        "print ('Accuracy', accuracy_score(true_labels, pred_labels))\n",
        "print ('Precision:', precision_score(true_labels, pred_labels, average='macro'))\n",
        "print ('Recall:', recall_score(true_labels, pred_labels, average='macro'))\n",
        "print ('F1-score:', f1_score(true_labels, pred_labels, average='macro'))"
      ],
      "metadata": {
        "colab": {
          "base_uri": "https://localhost:8080/"
        },
        "id": "YyLQNpZRY-Rw",
        "outputId": "ab763cdf-f4c0-4afd-beb2-05000d8d155f"
      },
      "execution_count": null,
      "outputs": [
        {
          "output_type": "stream",
          "name": "stdout",
          "text": [
            "Accuracy 0.9688888888888889\n",
            "Precision: 0.9743306878306879\n",
            "Recall: 0.9688888888888889\n",
            "F1-score: 0.9682503792503793\n"
          ]
        }
      ]
    },
    {
      "cell_type": "code",
      "source": [
        "def accuracy (y_true, y_pred):\n",
        "  sum = 0\n",
        "  n = len(y_true)\n",
        "  for i in range (n):\n",
        "    sum+=int (y_true[i]==y_pred[i])\n",
        "  return sum/n\n",
        "\n",
        "def precision(matrix, n):\n",
        "    avg_precise = 0\n",
        "    for i in range(n):\n",
        "        tp = matrix[i][i]\n",
        "        pred = np.sum(matrix[:, i])\n",
        "        if pred !=0:\n",
        "          avg_precise += tp / pred\n",
        "\n",
        "    return avg_precise / n\n",
        "\n",
        "\n",
        "def recall(matrix, n):\n",
        "    avg_recall = 0\n",
        "    for i in range(n):\n",
        "        tp = matrix[i][i]\n",
        "        true = np.sum(matrix[i, :])\n",
        "        avg_recall += tp / true\n",
        "\n",
        "    return avg_recall / n\n",
        "\n",
        "\n",
        "def f1_score(precision, recall):\n",
        "    return (2 * precision * recall) / (precision + recall)"
      ],
      "metadata": {
        "id": "2TXmSxnouMBy"
      },
      "execution_count": null,
      "outputs": []
    },
    {
      "cell_type": "code",
      "source": [
        "X = confusion_matrix(true_labels, pred_labels)"
      ],
      "metadata": {
        "id": "F_BwZGXdw8uD"
      },
      "execution_count": null,
      "outputs": []
    },
    {
      "cell_type": "code",
      "source": [
        "print ('Accuracy:', accuracy (true_labels, pred_labels))\n",
        "print ('Precision:', precision(X, CLASSES))\n",
        "print ('Recall:', recall(X, CLASSES))\n",
        "print ('F1-score:', f1_score (precision(X, CLASSES), recall(X, CLASSES)))"
      ],
      "metadata": {
        "colab": {
          "base_uri": "https://localhost:8080/"
        },
        "id": "qBrdqz0hvvd_",
        "outputId": "6eb7fcba-0ef6-489d-95e8-0b86556a367a"
      },
      "execution_count": null,
      "outputs": [
        {
          "output_type": "stream",
          "name": "stdout",
          "text": [
            "Accuracy: 0.9688888888888889\n",
            "Precision: 0.9743306878306879\n",
            "Recall: 0.9688888888888898\n",
            "F1-score: 0.9716021687433344\n"
          ]
        }
      ]
    },
    {
      "cell_type": "markdown",
      "source": [
        "# Predict"
      ],
      "metadata": {
        "id": "2eo602qlh1LO"
      }
    },
    {
      "cell_type": "code",
      "source": [
        "path_img_test = '/content/test/ABBOTTS BOOBY/2.jpg'\n",
        "plt.imshow(cv2.imread(path_img_test)[:,:,::-1])\n",
        "if (dict_bird_name[pred_labels[k]] == A[3]):\n",
        "  plt.title(f'Predict label: {dict_bird_name[pred_labels[k]]}\\nOriginal label: {A[3]}', color=\"green\")\n",
        "else:\n",
        "  plt.title(f'Predict label: {dict_bird_name[pred_labels[k]]}\\nOriginal label: {A[3]}', color=\"red\")\n",
        "plt.axis('off')\n",
        "plt.savefig('bird.png')"
      ],
      "metadata": {
        "colab": {
          "base_uri": "https://localhost:8080/",
          "height": 279
        },
        "id": "NYv-tzwzM6XX",
        "outputId": "9cedb75f-8335-4557-946b-185efa0980aa"
      },
      "execution_count": null,
      "outputs": [
        {
          "output_type": "display_data",
          "data": {
            "text/plain": [
              "<Figure size 432x288 with 1 Axes>"
            ],
            "image/png": "[encoded data removed]"
          },
          "metadata": {
            "needs_background": "light"
          }
        }
      ]
    },
    {
      "cell_type": "code",
      "source": [
        "# Choose random test_image \n",
        "k = random.randint (1, len(test_generator))\n",
        "plt.imshow(cv2.imread(img_test[k])[:,:,::-1])\n",
        "if (dict_bird_name[pred_labels[k]] == dict_bird_name[true_labels[k]]):\n",
        "  plt.title(f'Predict label: {dict_bird_name[pred_labels[k]]}\\nOriginal label: {dict_bird_name[true_labels[k]]}', color=\"green\")\n",
        "else:\n",
        "  plt.title(f'Predict label: {dict_bird_name[pred_labels[k]]}\\nOriginal label: {dict_bird_name[true_labels[k]]}', color=\"red\")\n",
        "plt.axis('off')\n",
        "plt.savefig('bird.png')\n"
      ],
      "metadata": {
        "colab": {
          "base_uri": "https://localhost:8080/",
          "height": 279
        },
        "id": "UmPjVk4WQkim",
        "outputId": "3cf06ec0-b071-4bf0-b4da-831cce29ceaa"
      },
      "execution_count": null,
      "outputs": [
        {
          "output_type": "display_data",
          "data": {
            "text/plain": [
              "<Figure size 432x288 with 1 Axes>"
            ],
            "image/png": "[encoded data removed]"
          },
          "metadata": {
            "needs_background": "light"
          }
        }
      ]
    },
    {
      "cell_type": "code",
      "source": [
        "# Green: perfect score / Red: imperfect score\n",
        "for i in range(CLASSES):\n",
        "    score_sum = 0\n",
        "    for j in range(5):\n",
        "        score_sum += int(true_labels[i*5+j] == pred_labels[i*5+j])\n",
        "    if score_sum == 5:\n",
        "        print('\\033[92m' + '{}: {} / 5'.format(dict_bird_name[i], score_sum))\n",
        "    else:\n",
        "        print('\\033[91m' + '{}: {} / 5'.format(dict_bird_name[i], score_sum))\n"
      ],
      "metadata": {
        "colab": {
          "base_uri": "https://localhost:8080/"
        },
        "id": "8v2YxEsG18GX",
        "outputId": "70511635-b2cd-4a88-97a2-c9b81a3d634c"
      },
      "execution_count": null,
      "outputs": [
        {
          "output_type": "stream",
          "name": "stdout",
          "text": [
            "\u001b[92mABBOTTS BABBLER: 5 / 5\n",
            "\u001b[92mABBOTTS BOOBY: 5 / 5\n",
            "\u001b[92mABYSSINIAN GROUND HORNBILL: 5 / 5\n",
            "\u001b[92mAFRICAN CROWNED CRANE: 5 / 5\n",
            "\u001b[92mAFRICAN EMERALD CUCKOO: 5 / 5\n",
            "\u001b[92mAFRICAN FIREFINCH: 5 / 5\n",
            "\u001b[92mAFRICAN OYSTER CATCHER: 5 / 5\n",
            "\u001b[92mAFRICAN PIED HORNBILL: 5 / 5\n",
            "\u001b[92mALBATROSS: 5 / 5\n",
            "\u001b[92mALBERTS TOWHEE: 5 / 5\n",
            "\u001b[92mALEXANDRINE PARAKEET: 5 / 5\n",
            "\u001b[92mALPINE CHOUGH: 5 / 5\n",
            "\u001b[91mALTAMIRA YELLOWTHROAT: 4 / 5\n",
            "\u001b[92mAMERICAN AVOCET: 5 / 5\n",
            "\u001b[92mAMERICAN BITTERN: 5 / 5\n",
            "\u001b[92mAMERICAN COOT: 5 / 5\n",
            "\u001b[92mAMERICAN FLAMINGO: 5 / 5\n",
            "\u001b[92mAMERICAN GOLDFINCH: 5 / 5\n",
            "\u001b[92mAMERICAN KESTREL: 5 / 5\n",
            "\u001b[92mAMERICAN PIPIT: 5 / 5\n",
            "\u001b[91mAMERICAN REDSTART: 4 / 5\n",
            "\u001b[92mAMERICAN WIGEON: 5 / 5\n",
            "\u001b[92mAMETHYST WOODSTAR: 5 / 5\n",
            "\u001b[91mANDEAN GOOSE: 4 / 5\n",
            "\u001b[92mANDEAN LAPWING: 5 / 5\n",
            "\u001b[92mANDEAN SISKIN: 5 / 5\n",
            "\u001b[92mANHINGA: 5 / 5\n",
            "\u001b[91mANIANIAU: 4 / 5\n",
            "\u001b[92mANNAS HUMMINGBIRD: 5 / 5\n",
            "\u001b[92mANTBIRD: 5 / 5\n",
            "\u001b[91mANTILLEAN EUPHONIA: 4 / 5\n",
            "\u001b[92mAPAPANE: 5 / 5\n",
            "\u001b[92mAPOSTLEBIRD: 5 / 5\n",
            "\u001b[92mARARIPE MANAKIN: 5 / 5\n",
            "\u001b[91mASHY STORM PETREL: 3 / 5\n",
            "\u001b[91mASHY THRUSHBIRD: 4 / 5\n",
            "\u001b[92mASIAN CRESTED IBIS: 5 / 5\n",
            "\u001b[92mASIAN DOLLARD BIRD: 5 / 5\n",
            "\u001b[92mAUCKLAND SHAQ: 5 / 5\n",
            "\u001b[91mAUSTRAL CANASTERO: 3 / 5\n",
            "\u001b[92mAUSTRALASIAN FIGBIRD: 5 / 5\n",
            "\u001b[91mAVADAVAT: 3 / 5\n",
            "\u001b[91mAZARAS SPINETAIL: 4 / 5\n",
            "\u001b[92mAZURE BREASTED PITTA: 5 / 5\n",
            "\u001b[91mAZURE JAY: 4 / 5\n",
            "\u001b[92mAZURE TANAGER: 5 / 5\n",
            "\u001b[92mAZURE TIT: 5 / 5\n",
            "\u001b[92mBAIKAL TEAL: 5 / 5\n",
            "\u001b[92mBALD EAGLE: 5 / 5\n",
            "\u001b[92mBALD IBIS: 5 / 5\n",
            "\u001b[92mBALI STARLING: 5 / 5\n",
            "\u001b[92mBALTIMORE ORIOLE: 5 / 5\n",
            "\u001b[92mBANANAQUIT: 5 / 5\n",
            "\u001b[92mBAND TAILED GUAN: 5 / 5\n",
            "\u001b[92mBANDED BROADBILL: 5 / 5\n",
            "\u001b[92mBANDED PITA: 5 / 5\n",
            "\u001b[92mBANDED STILT: 5 / 5\n",
            "\u001b[92mBAR-TAILED GODWIT: 5 / 5\n",
            "\u001b[92mBARN OWL: 5 / 5\n",
            "\u001b[92mBARN SWALLOW: 5 / 5\n",
            "\u001b[92mBARRED PUFFBIRD: 5 / 5\n",
            "\u001b[92mBARROWS GOLDENEYE: 5 / 5\n",
            "\u001b[92mBAY-BREASTED WARBLER: 5 / 5\n",
            "\u001b[92mBEARDED BARBET: 5 / 5\n",
            "\u001b[92mBEARDED BELLBIRD: 5 / 5\n",
            "\u001b[92mBEARDED REEDLING: 5 / 5\n",
            "\u001b[92mBELTED KINGFISHER: 5 / 5\n",
            "\u001b[92mBIRD OF PARADISE: 5 / 5\n",
            "\u001b[92mBLACK & YELLOW BROADBILL: 5 / 5\n",
            "\u001b[92mBLACK BAZA: 5 / 5\n",
            "\u001b[92mBLACK COCKATO: 5 / 5\n",
            "\u001b[92mBLACK FRANCOLIN: 5 / 5\n",
            "\u001b[92mBLACK SKIMMER: 5 / 5\n",
            "\u001b[92mBLACK SWAN: 5 / 5\n",
            "\u001b[92mBLACK TAIL CRAKE: 5 / 5\n",
            "\u001b[92mBLACK THROATED BUSHTIT: 5 / 5\n",
            "\u001b[92mBLACK THROATED WARBLER: 5 / 5\n",
            "\u001b[92mBLACK VENTED SHEARWATER: 5 / 5\n",
            "\u001b[92mBLACK VULTURE: 5 / 5\n",
            "\u001b[92mBLACK-CAPPED CHICKADEE: 5 / 5\n",
            "\u001b[92mBLACK-NECKED GREBE: 5 / 5\n",
            "\u001b[92mBLACK-THROATED SPARROW: 5 / 5\n",
            "\u001b[92mBLACKBURNIAM WARBLER: 5 / 5\n",
            "\u001b[92mBLONDE CRESTED WOODPECKER: 5 / 5\n",
            "\u001b[92mBLOOD PHEASANT: 5 / 5\n",
            "\u001b[92mBLUE COAU: 5 / 5\n",
            "\u001b[91mBLUE DACNIS: 4 / 5\n",
            "\u001b[92mBLUE GROUSE: 5 / 5\n",
            "\u001b[92mBLUE HERON: 5 / 5\n",
            "\u001b[91mBLUE MALKOHA: 4 / 5\n",
            "\u001b[92mBLUE THROATED TOUCANET: 5 / 5\n",
            "\u001b[91mBOBOLINK: 4 / 5\n",
            "\u001b[92mBORNEAN BRISTLEHEAD: 5 / 5\n",
            "\u001b[92mBORNEAN LEAFBIRD: 5 / 5\n",
            "\u001b[92mBORNEAN PHEASANT: 5 / 5\n",
            "\u001b[92mBRANDT CORMARANT: 5 / 5\n",
            "\u001b[91mBREWERS BLACKBIRD: 3 / 5\n",
            "\u001b[92mBROWN CREPPER: 5 / 5\n",
            "\u001b[92mBROWN NOODY: 5 / 5\n",
            "\u001b[92mBROWN THRASHER: 5 / 5\n",
            "\u001b[92mBUFFLEHEAD: 5 / 5\n",
            "\u001b[92mBULWERS PHEASANT: 5 / 5\n",
            "\u001b[92mBURCHELLS COURSER: 5 / 5\n",
            "\u001b[92mBUSH TURKEY: 5 / 5\n",
            "\u001b[92mCAATINGA CACHOLOTE: 5 / 5\n",
            "\u001b[92mCACTUS WREN: 5 / 5\n",
            "\u001b[92mCALIFORNIA CONDOR: 5 / 5\n",
            "\u001b[92mCALIFORNIA GULL: 5 / 5\n",
            "\u001b[92mCALIFORNIA QUAIL: 5 / 5\n",
            "\u001b[92mCAMPO FLICKER: 5 / 5\n",
            "\u001b[92mCANARY: 5 / 5\n",
            "\u001b[92mCAPE GLOSSY STARLING: 5 / 5\n",
            "\u001b[92mCAPE LONGCLAW: 5 / 5\n",
            "\u001b[92mCAPE MAY WARBLER: 5 / 5\n",
            "\u001b[92mCAPE ROCK THRUSH: 5 / 5\n",
            "\u001b[92mCAPPED HERON: 5 / 5\n",
            "\u001b[92mCAPUCHINBIRD: 5 / 5\n",
            "\u001b[92mCARMINE BEE-EATER: 5 / 5\n",
            "\u001b[92mCASPIAN TERN: 5 / 5\n",
            "\u001b[92mCASSOWARY: 5 / 5\n",
            "\u001b[92mCEDAR WAXWING: 5 / 5\n",
            "\u001b[92mCERULEAN WARBLER: 5 / 5\n",
            "\u001b[92mCHARA DE COLLAR: 5 / 5\n",
            "\u001b[92mCHATTERING LORY: 5 / 5\n",
            "\u001b[92mCHESTNET BELLIED EUPHONIA: 5 / 5\n",
            "\u001b[92mCHINESE BAMBOO PARTRIDGE: 5 / 5\n",
            "\u001b[92mCHINESE POND HERON: 5 / 5\n",
            "\u001b[92mCHIPPING SPARROW: 5 / 5\n",
            "\u001b[92mCHUCAO TAPACULO: 5 / 5\n",
            "\u001b[92mCHUKAR PARTRIDGE: 5 / 5\n",
            "\u001b[92mCINNAMON ATTILA: 5 / 5\n",
            "\u001b[91mCINNAMON FLYCATCHER: 4 / 5\n",
            "\u001b[92mCINNAMON TEAL: 5 / 5\n",
            "\u001b[92mCLARKS NUTCRACKER: 5 / 5\n",
            "\u001b[92mCOCK OF THE  ROCK: 5 / 5\n",
            "\u001b[92mCOCKATOO: 5 / 5\n",
            "\u001b[92mCOLLARED ARACARI: 5 / 5\n",
            "\u001b[92mCOMMON FIRECREST: 5 / 5\n",
            "\u001b[92mCOMMON GRACKLE: 5 / 5\n",
            "\u001b[92mCOMMON HOUSE MARTIN: 5 / 5\n",
            "\u001b[92mCOMMON IORA: 5 / 5\n",
            "\u001b[92mCOMMON LOON: 5 / 5\n",
            "\u001b[92mCOMMON POORWILL: 5 / 5\n",
            "\u001b[92mCOMMON STARLING: 5 / 5\n",
            "\u001b[92mCOPPERY TAILED COUCAL: 5 / 5\n",
            "\u001b[92mCRAB PLOVER: 5 / 5\n",
            "\u001b[92mCRANE HAWK: 5 / 5\n",
            "\u001b[92mCREAM COLORED WOODPECKER: 5 / 5\n",
            "\u001b[92mCRESTED AUKLET: 5 / 5\n",
            "\u001b[92mCRESTED CARACARA: 5 / 5\n",
            "\u001b[92mCRESTED COUA: 5 / 5\n",
            "\u001b[92mCRESTED FIREBACK: 5 / 5\n",
            "\u001b[92mCRESTED KINGFISHER: 5 / 5\n",
            "\u001b[92mCRESTED NUTHATCH: 5 / 5\n",
            "\u001b[92mCRESTED OROPENDOLA: 5 / 5\n",
            "\u001b[92mCRESTED SHRIKETIT: 5 / 5\n",
            "\u001b[92mCRIMSON CHAT: 5 / 5\n",
            "\u001b[92mCRIMSON SUNBIRD: 5 / 5\n",
            "\u001b[92mCROW: 5 / 5\n",
            "\u001b[91mCROWNED PIGEON: 4 / 5\n",
            "\u001b[92mCUBAN TODY: 5 / 5\n",
            "\u001b[92mCUBAN TROGON: 5 / 5\n",
            "\u001b[92mCURL CRESTED ARACURI: 5 / 5\n",
            "\u001b[92mD-ARNAUDS BARBET: 5 / 5\n",
            "\u001b[92mDALMATIAN PELICAN: 5 / 5\n",
            "\u001b[92mDARJEELING WOODPECKER: 5 / 5\n",
            "\u001b[92mDARK EYED JUNCO: 5 / 5\n",
            "\u001b[92mDARWINS FLYCATCHER: 5 / 5\n",
            "\u001b[91mDAURIAN REDSTART: 4 / 5\n",
            "\u001b[92mDEMOISELLE CRANE: 5 / 5\n",
            "\u001b[92mDOUBLE BARRED FINCH: 5 / 5\n",
            "\u001b[91mDOUBLE BRESTED CORMARANT: 3 / 5\n",
            "\u001b[92mDOUBLE EYED FIG PARROT: 5 / 5\n",
            "\u001b[92mDOWNY WOODPECKER: 5 / 5\n",
            "\u001b[92mDUSKY LORY: 5 / 5\n",
            "\u001b[91mDUSKY ROBIN: 4 / 5\n",
            "\u001b[92mEARED PITA: 5 / 5\n",
            "\u001b[92mEASTERN BLUEBIRD: 5 / 5\n",
            "\u001b[92mEASTERN BLUEBONNET: 5 / 5\n",
            "\u001b[91mEASTERN GOLDEN WEAVER: 4 / 5\n",
            "\u001b[92mEASTERN MEADOWLARK: 5 / 5\n",
            "\u001b[92mEASTERN ROSELLA: 5 / 5\n",
            "\u001b[92mEASTERN TOWEE: 5 / 5\n",
            "\u001b[91mEASTERN WIP POOR WILL: 4 / 5\n",
            "\u001b[92mECUADORIAN HILLSTAR: 5 / 5\n",
            "\u001b[92mEGYPTIAN GOOSE: 5 / 5\n",
            "\u001b[91mELEGANT TROGON: 4 / 5\n",
            "\u001b[92mELLIOTS  PHEASANT: 5 / 5\n",
            "\u001b[92mEMERALD TANAGER: 5 / 5\n",
            "\u001b[91mEMPEROR PENGUIN: 4 / 5\n",
            "\u001b[92mEMU: 5 / 5\n",
            "\u001b[92mENGGANO MYNA: 5 / 5\n",
            "\u001b[91mEURASIAN BULLFINCH: 4 / 5\n",
            "\u001b[92mEURASIAN GOLDEN ORIOLE: 5 / 5\n",
            "\u001b[92mEURASIAN MAGPIE: 5 / 5\n",
            "\u001b[92mEUROPEAN GOLDFINCH: 5 / 5\n",
            "\u001b[92mEUROPEAN TURTLE DOVE: 5 / 5\n",
            "\u001b[92mEVENING GROSBEAK: 5 / 5\n",
            "\u001b[92mFAIRY BLUEBIRD: 5 / 5\n",
            "\u001b[92mFAIRY PENGUIN: 5 / 5\n",
            "\u001b[92mFAIRY TERN: 5 / 5\n",
            "\u001b[91mFAN TAILED WIDOW: 4 / 5\n",
            "\u001b[92mFASCIATED WREN: 5 / 5\n",
            "\u001b[92mFIERY MINIVET: 5 / 5\n",
            "\u001b[92mFIORDLAND PENGUIN: 5 / 5\n",
            "\u001b[92mFIRE TAILLED MYZORNIS: 5 / 5\n",
            "\u001b[92mFLAME BOWERBIRD: 5 / 5\n",
            "\u001b[92mFLAME TANAGER: 5 / 5\n",
            "\u001b[92mFRIGATE: 5 / 5\n",
            "\u001b[92mGAMBELS QUAIL: 5 / 5\n",
            "\u001b[92mGANG GANG COCKATOO: 5 / 5\n",
            "\u001b[91mGILA WOODPECKER: 4 / 5\n",
            "\u001b[92mGILDED FLICKER: 5 / 5\n",
            "\u001b[92mGLOSSY IBIS: 5 / 5\n",
            "\u001b[92mGO AWAY BIRD: 5 / 5\n",
            "\u001b[92mGOLD WING WARBLER: 5 / 5\n",
            "\u001b[92mGOLDEN BOWER BIRD: 5 / 5\n",
            "\u001b[92mGOLDEN CHEEKED WARBLER: 5 / 5\n",
            "\u001b[92mGOLDEN CHLOROPHONIA: 5 / 5\n",
            "\u001b[92mGOLDEN EAGLE: 5 / 5\n",
            "\u001b[92mGOLDEN PARAKEET: 5 / 5\n",
            "\u001b[92mGOLDEN PHEASANT: 5 / 5\n",
            "\u001b[92mGOLDEN PIPIT: 5 / 5\n",
            "\u001b[92mGOULDIAN FINCH: 5 / 5\n",
            "\u001b[92mGRANDALA: 5 / 5\n",
            "\u001b[92mGRAY CATBIRD: 5 / 5\n",
            "\u001b[92mGRAY KINGBIRD: 5 / 5\n",
            "\u001b[92mGRAY PARTRIDGE: 5 / 5\n",
            "\u001b[92mGREAT GRAY OWL: 5 / 5\n",
            "\u001b[92mGREAT JACAMAR: 5 / 5\n",
            "\u001b[92mGREAT KISKADEE: 5 / 5\n",
            "\u001b[92mGREAT POTOO: 5 / 5\n",
            "\u001b[92mGREAT TINAMOU: 5 / 5\n",
            "\u001b[92mGREAT XENOPS: 5 / 5\n",
            "\u001b[92mGREATER PEWEE: 5 / 5\n",
            "\u001b[92mGREATOR SAGE GROUSE: 5 / 5\n",
            "\u001b[92mGREEN BROADBILL: 5 / 5\n",
            "\u001b[92mGREEN JAY: 5 / 5\n",
            "\u001b[92mGREEN MAGPIE: 5 / 5\n",
            "\u001b[91mGREY CUCKOOSHRIKE: 2 / 5\n",
            "\u001b[92mGREY PLOVER: 5 / 5\n",
            "\u001b[92mGROVED BILLED ANI: 5 / 5\n",
            "\u001b[92mGUINEA TURACO: 5 / 5\n",
            "\u001b[92mGUINEAFOWL: 5 / 5\n",
            "\u001b[92mGURNEYS PITTA: 5 / 5\n",
            "\u001b[92mGYRFALCON: 5 / 5\n",
            "\u001b[92mHAMERKOP: 5 / 5\n",
            "\u001b[92mHARLEQUIN DUCK: 5 / 5\n",
            "\u001b[92mHARLEQUIN QUAIL: 5 / 5\n",
            "\u001b[92mHARPY EAGLE: 5 / 5\n",
            "\u001b[92mHAWAIIAN GOOSE: 5 / 5\n",
            "\u001b[92mHAWFINCH: 5 / 5\n",
            "\u001b[92mHELMET VANGA: 5 / 5\n",
            "\u001b[92mHEPATIC TANAGER: 5 / 5\n",
            "\u001b[92mHIMALAYAN BLUETAIL: 5 / 5\n",
            "\u001b[92mHIMALAYAN MONAL: 5 / 5\n",
            "\u001b[92mHOATZIN: 5 / 5\n",
            "\u001b[92mHOODED MERGANSER: 5 / 5\n",
            "\u001b[92mHOOPOES: 5 / 5\n",
            "\u001b[92mHORNED GUAN: 5 / 5\n",
            "\u001b[92mHORNED LARK: 5 / 5\n",
            "\u001b[92mHORNED SUNGEM: 5 / 5\n",
            "\u001b[92mHOUSE FINCH: 5 / 5\n",
            "\u001b[92mHOUSE SPARROW: 5 / 5\n",
            "\u001b[92mHYACINTH MACAW: 5 / 5\n",
            "\u001b[92mIBERIAN MAGPIE: 5 / 5\n",
            "\u001b[92mIBISBILL: 5 / 5\n",
            "\u001b[91mIMPERIAL SHAQ: 3 / 5\n",
            "\u001b[92mINCA TERN: 5 / 5\n",
            "\u001b[92mINDIAN BUSTARD: 5 / 5\n",
            "\u001b[92mINDIAN PITTA: 5 / 5\n",
            "\u001b[92mINDIAN ROLLER: 5 / 5\n",
            "\u001b[92mINDIAN VULTURE: 5 / 5\n",
            "\u001b[92mINDIGO BUNTING: 5 / 5\n",
            "\u001b[92mINDIGO FLYCATCHER: 5 / 5\n",
            "\u001b[92mINLAND DOTTEREL: 5 / 5\n",
            "\u001b[92mIVORY BILLED ARACARI: 5 / 5\n",
            "\u001b[92mIVORY GULL: 5 / 5\n",
            "\u001b[92mIWI: 5 / 5\n",
            "\u001b[92mJABIRU: 5 / 5\n",
            "\u001b[92mJACK SNIPE: 5 / 5\n",
            "\u001b[92mJANDAYA PARAKEET: 5 / 5\n",
            "\u001b[92mJAPANESE ROBIN: 5 / 5\n",
            "\u001b[92mJAVA SPARROW: 5 / 5\n",
            "\u001b[92mJOCOTOCO ANTPITTA: 5 / 5\n",
            "\u001b[92mKAGU: 5 / 5\n",
            "\u001b[92mKAKAPO: 5 / 5\n",
            "\u001b[92mKILLDEAR: 5 / 5\n",
            "\u001b[91mKING EIDER: 4 / 5\n",
            "\u001b[92mKING VULTURE: 5 / 5\n",
            "\u001b[92mKIWI: 5 / 5\n",
            "\u001b[92mKOOKABURRA: 5 / 5\n",
            "\u001b[92mLARK BUNTING: 5 / 5\n",
            "\u001b[92mLAZULI BUNTING: 5 / 5\n",
            "\u001b[91mLESSER ADJUTANT: 4 / 5\n",
            "\u001b[92mLILAC ROLLER: 5 / 5\n",
            "\u001b[91mLITTLE AUK: 4 / 5\n",
            "\u001b[91mLOGGERHEAD SHRIKE: 3 / 5\n",
            "\u001b[92mLONG-EARED OWL: 5 / 5\n",
            "\u001b[92mMAGPIE GOOSE: 5 / 5\n",
            "\u001b[92mMALABAR HORNBILL: 5 / 5\n",
            "\u001b[91mMALACHITE KINGFISHER: 4 / 5\n",
            "\u001b[92mMALAGASY WHITE EYE: 5 / 5\n",
            "\u001b[92mMALEO: 5 / 5\n",
            "\u001b[91mMALLARD DUCK: 4 / 5\n",
            "\u001b[92mMANDRIN DUCK: 5 / 5\n",
            "\u001b[92mMANGROVE CUCKOO: 5 / 5\n",
            "\u001b[92mMARABOU STORK: 5 / 5\n",
            "\u001b[92mMASKED BOOBY: 5 / 5\n",
            "\u001b[92mMASKED LAPWING: 5 / 5\n",
            "\u001b[91mMCKAYS BUNTING: 4 / 5\n",
            "\u001b[92mMIKADO  PHEASANT: 5 / 5\n",
            "\u001b[92mMOURNING DOVE: 5 / 5\n",
            "\u001b[92mMYNA: 5 / 5\n",
            "\u001b[92mNICOBAR PIGEON: 5 / 5\n",
            "\u001b[92mNOISY FRIARBIRD: 5 / 5\n",
            "\u001b[91mNORTHERN BEARDLESS TYRANNULET: 2 / 5\n",
            "\u001b[92mNORTHERN CARDINAL: 5 / 5\n",
            "\u001b[92mNORTHERN FLICKER: 5 / 5\n",
            "\u001b[92mNORTHERN FULMAR: 5 / 5\n",
            "\u001b[92mNORTHERN GANNET: 5 / 5\n",
            "\u001b[92mNORTHERN GOSHAWK: 5 / 5\n",
            "\u001b[92mNORTHERN JACANA: 5 / 5\n",
            "\u001b[92mNORTHERN MOCKINGBIRD: 5 / 5\n",
            "\u001b[92mNORTHERN PARULA: 5 / 5\n",
            "\u001b[92mNORTHERN RED BISHOP: 5 / 5\n",
            "\u001b[92mNORTHERN SHOVELER: 5 / 5\n",
            "\u001b[92mOCELLATED TURKEY: 5 / 5\n",
            "\u001b[92mOKINAWA RAIL: 5 / 5\n",
            "\u001b[92mORANGE BRESTED BUNTING: 5 / 5\n",
            "\u001b[92mORIENTAL BAY OWL: 5 / 5\n",
            "\u001b[92mOSPREY: 5 / 5\n",
            "\u001b[92mOSTRICH: 5 / 5\n",
            "\u001b[92mOVENBIRD: 5 / 5\n",
            "\u001b[92mOYSTER CATCHER: 5 / 5\n",
            "\u001b[92mPAINTED BUNTING: 5 / 5\n",
            "\u001b[92mPALILA: 5 / 5\n",
            "\u001b[92mPARADISE TANAGER: 5 / 5\n",
            "\u001b[92mPARAKETT  AKULET: 5 / 5\n",
            "\u001b[91mPARUS MAJOR: 4 / 5\n",
            "\u001b[92mPATAGONIAN SIERRA FINCH: 5 / 5\n",
            "\u001b[91mPEACOCK: 4 / 5\n",
            "\u001b[92mPEREGRINE FALCON: 5 / 5\n",
            "\u001b[92mPHILIPPINE EAGLE: 5 / 5\n",
            "\u001b[92mPINK ROBIN: 5 / 5\n",
            "\u001b[91mPOMARINE JAEGER: 4 / 5\n",
            "\u001b[92mPUFFIN: 5 / 5\n",
            "\u001b[92mPURPLE FINCH: 5 / 5\n",
            "\u001b[92mPURPLE GALLINULE: 5 / 5\n",
            "\u001b[92mPURPLE MARTIN: 5 / 5\n",
            "\u001b[91mPURPLE SWAMPHEN: 4 / 5\n",
            "\u001b[92mPYGMY KINGFISHER: 5 / 5\n",
            "\u001b[92mQUETZAL: 5 / 5\n",
            "\u001b[92mRAINBOW LORIKEET: 5 / 5\n",
            "\u001b[92mRAZORBILL: 5 / 5\n",
            "\u001b[92mRED BEARDED BEE EATER: 5 / 5\n",
            "\u001b[92mRED BELLIED PITTA: 5 / 5\n",
            "\u001b[92mRED BROWED FINCH: 5 / 5\n",
            "\u001b[92mRED FACED CORMORANT: 5 / 5\n",
            "\u001b[92mRED FACED WARBLER: 5 / 5\n",
            "\u001b[92mRED FODY: 5 / 5\n",
            "\u001b[92mRED HEADED DUCK: 5 / 5\n",
            "\u001b[92mRED HEADED WOODPECKER: 5 / 5\n",
            "\u001b[92mRED HONEY CREEPER: 5 / 5\n",
            "\u001b[92mRED NAPED TROGON: 5 / 5\n",
            "\u001b[92mRED TAILED HAWK: 5 / 5\n",
            "\u001b[92mRED TAILED THRUSH: 5 / 5\n",
            "\u001b[92mRED WINGED BLACKBIRD: 5 / 5\n",
            "\u001b[92mRED WISKERED BULBUL: 5 / 5\n",
            "\u001b[92mREGENT BOWERBIRD: 5 / 5\n",
            "\u001b[92mRING-NECKED PHEASANT: 5 / 5\n",
            "\u001b[92mROADRUNNER: 5 / 5\n",
            "\u001b[92mROBIN: 5 / 5\n",
            "\u001b[92mROCK DOVE: 5 / 5\n",
            "\u001b[92mROSY FACED LOVEBIRD: 5 / 5\n",
            "\u001b[92mROUGH LEG BUZZARD: 5 / 5\n",
            "\u001b[92mROYAL FLYCATCHER: 5 / 5\n",
            "\u001b[91mRUBY THROATED HUMMINGBIRD: 4 / 5\n",
            "\u001b[92mRUDY KINGFISHER: 5 / 5\n",
            "\u001b[92mRUFOUS KINGFISHER: 5 / 5\n",
            "\u001b[92mRUFUOS MOTMOT: 5 / 5\n",
            "\u001b[91mSAMATRAN THRUSH: 4 / 5\n",
            "\u001b[92mSAND MARTIN: 5 / 5\n",
            "\u001b[92mSANDHILL CRANE: 5 / 5\n",
            "\u001b[92mSATYR TRAGOPAN: 5 / 5\n",
            "\u001b[92mSCARLET CROWNED FRUIT DOVE: 5 / 5\n",
            "\u001b[92mSCARLET IBIS: 5 / 5\n",
            "\u001b[92mSCARLET MACAW: 5 / 5\n",
            "\u001b[92mSCARLET TANAGER: 5 / 5\n",
            "\u001b[92mSHOEBILL: 5 / 5\n",
            "\u001b[92mSHORT BILLED DOWITCHER: 5 / 5\n",
            "\u001b[91mSKUA: 4 / 5\n",
            "\u001b[92mSMITHS LONGSPUR: 5 / 5\n",
            "\u001b[92mSNOWY EGRET: 5 / 5\n",
            "\u001b[92mSNOWY OWL: 5 / 5\n",
            "\u001b[92mSNOWY PLOVER: 5 / 5\n",
            "\u001b[91mSORA: 4 / 5\n",
            "\u001b[92mSPANGLED COTINGA: 5 / 5\n",
            "\u001b[92mSPLENDID WREN: 5 / 5\n",
            "\u001b[92mSPOON BILED SANDPIPER: 5 / 5\n",
            "\u001b[92mSPOONBILL: 5 / 5\n",
            "\u001b[92mSPOTTED CATBIRD: 5 / 5\n",
            "\u001b[92mSRI LANKA BLUE MAGPIE: 5 / 5\n",
            "\u001b[92mSTEAMER DUCK: 5 / 5\n",
            "\u001b[92mSTORK BILLED KINGFISHER: 5 / 5\n",
            "\u001b[91mSTRAWBERRY FINCH: 2 / 5\n",
            "\u001b[92mSTRIPED OWL: 5 / 5\n",
            "\u001b[92mSTRIPPED MANAKIN: 5 / 5\n",
            "\u001b[92mSTRIPPED SWALLOW: 5 / 5\n",
            "\u001b[92mSUPERB STARLING: 5 / 5\n",
            "\u001b[92mSWINHOES PHEASANT: 5 / 5\n",
            "\u001b[92mTAILORBIRD: 5 / 5\n",
            "\u001b[91mTAIWAN MAGPIE: 4 / 5\n",
            "\u001b[92mTAKAHE: 5 / 5\n",
            "\u001b[92mTASMANIAN HEN: 5 / 5\n",
            "\u001b[91mTEAL DUCK: 4 / 5\n",
            "\u001b[92mTIT MOUSE: 5 / 5\n",
            "\u001b[92mTOUCHAN: 5 / 5\n",
            "\u001b[91mTOWNSENDS WARBLER: 4 / 5\n",
            "\u001b[92mTREE SWALLOW: 5 / 5\n",
            "\u001b[91mTRICOLORED BLACKBIRD: 4 / 5\n",
            "\u001b[92mTROPICAL KINGBIRD: 5 / 5\n",
            "\u001b[92mTRUMPTER SWAN: 5 / 5\n",
            "\u001b[92mTURKEY VULTURE: 5 / 5\n",
            "\u001b[92mTURQUOISE MOTMOT: 5 / 5\n",
            "\u001b[92mUMBRELLA BIRD: 5 / 5\n",
            "\u001b[92mVARIED THRUSH: 5 / 5\n",
            "\u001b[92mVEERY: 5 / 5\n",
            "\u001b[91mVENEZUELIAN TROUPIAL: 4 / 5\n",
            "\u001b[91mVERMILION FLYCATHER: 4 / 5\n",
            "\u001b[92mVICTORIA CROWNED PIGEON: 5 / 5\n",
            "\u001b[92mVIOLET GREEN SWALLOW: 5 / 5\n",
            "\u001b[92mVIOLET TURACO: 5 / 5\n",
            "\u001b[91mVULTURINE GUINEAFOWL: 4 / 5\n",
            "\u001b[92mWALL CREAPER: 5 / 5\n",
            "\u001b[92mWATTLED CURASSOW: 5 / 5\n",
            "\u001b[91mWATTLED LAPWING: 4 / 5\n",
            "\u001b[92mWHIMBREL: 5 / 5\n",
            "\u001b[92mWHITE BROWED CRAKE: 5 / 5\n",
            "\u001b[91mWHITE CHEEKED TURACO: 4 / 5\n",
            "\u001b[91mWHITE CRESTED HORNBILL: 4 / 5\n",
            "\u001b[92mWHITE NECKED RAVEN: 5 / 5\n",
            "\u001b[92mWHITE TAILED TROPIC: 5 / 5\n",
            "\u001b[92mWHITE THROATED BEE EATER: 5 / 5\n",
            "\u001b[92mWILD TURKEY: 5 / 5\n",
            "\u001b[92mWILSONS BIRD OF PARADISE: 5 / 5\n",
            "\u001b[92mWOOD DUCK: 5 / 5\n",
            "\u001b[91mYELLOW BELLIED FLOWERPECKER: 4 / 5\n",
            "\u001b[92mYELLOW CACIQUE: 5 / 5\n",
            "\u001b[92mYELLOW HEADED BLACKBIRD: 5 / 5\n"
          ]
        }
      ]
    }
  ],
  "metadata": {
    "kernelspec": {
      "display_name": "Python 3",
      "language": "python",
      "name": "python3"
    },
    "language_info": {
      "codemirror_mode": {
        "name": "ipython",
        "version": 3
      },
      "file_extension": ".py",
      "mimetype": "text/x-python",
      "name": "python",
      "nbconvert_exporter": "python",
      "pygments_lexer": "ipython3",
      "version": "3.7.6"
    },
    "papermill": {
      "duration": 17648.085585,
      "end_time": "2020-09-15T03:48:07.156502",
      "environment_variables": {},
      "exception": null,
      "input_path": "__notebook__.ipynb",
      "output_path": "__notebook__.ipynb",
      "parameters": {},
      "start_time": "2020-09-14T22:53:59.070917",
      "version": "2.1.0"
    },
    "colab": {
      "provenance": [],
      "include_colab_link": true
    },
    "gpuClass": "standard"
  },
  "nbformat": 4,
  "nbformat_minor": 0
}